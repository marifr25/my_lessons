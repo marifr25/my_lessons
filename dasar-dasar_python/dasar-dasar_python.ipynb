{
 "cells": [
  {
   "cell_type": "markdown",
   "id": "74b043ba",
   "metadata": {},
   "source": [
    "<h1 style=\"text-align: center;\"> DASAR-DASAR PYTHON </h1>"
   ]
  },
  {
   "cell_type": "markdown",
   "id": "1b31d2fa",
   "metadata": {},
   "source": [
    "Source: [bisa.ai](https://bisa.ai/)"
   ]
  },
  {
   "cell_type": "markdown",
   "id": "d50f4082-4c30-424d-8daa-fa81518b8f9b",
   "metadata": {
    "tags": []
   },
   "source": [
    "<h1 style=\"text-align: center;\"> BAB 1 TIPE DATA </h1>"
   ]
  },
  {
   "cell_type": "markdown",
   "id": "8b39dd3b-3c2c-4786-b905-0064d1cbb06e",
   "metadata": {},
   "source": [
    "Tipe data digunakan untuk mengidentifikasi data apa yang diinput pada suatu variabel. Data yang diinput akan disimpan pada variabel tersebut."
   ]
  },
  {
   "cell_type": "markdown",
   "id": "fc6c53ac-9afb-4161-b4b9-6ebd1f482cea",
   "metadata": {},
   "source": [
    "## 1.1. Numeric"
   ]
  },
  {
   "cell_type": "markdown",
   "id": "537070dd-b2cc-4f1b-ba71-c7d1f4e7d00f",
   "metadata": {},
   "source": [
    "Tipe data pertama yaitu tipe data numerik (numeric). Tipe data numerik merupakan jenis data berupa angka. terdapat 3 jenis data numeric yaitu integer, float, dan complex number. "
   ]
  },
  {
   "cell_type": "markdown",
   "id": "e2ef8ae5-b0c6-41b0-9c6a-87bf1fdd1e51",
   "metadata": {},
   "source": [
    "### 1.1.1. Integer"
   ]
  },
  {
   "cell_type": "markdown",
   "id": "1766580c-ca0a-47f2-83d5-7837aace2e45",
   "metadata": {},
   "source": [
    "Integer merupakan tipe data berupa bilangan bulat. Integer dapat dituliskan sebagai 'int'. "
   ]
  },
  {
   "cell_type": "code",
   "execution_count": 1,
   "id": "a19293c3-be34-4f50-9531-334fbf53cdc2",
   "metadata": {},
   "outputs": [
    {
     "name": "stdout",
     "output_type": "stream",
     "text": [
      "ini_variabel = 250\n",
      "Tipe data variabel ini = <class 'int'>\n"
     ]
    }
   ],
   "source": [
    "ini_variabel = 250\n",
    "\n",
    "print(f\"ini_variabel = {ini_variabel}\")\n",
    "print(f'Tipe data variabel ini = {type(ini_variabel)}')"
   ]
  },
  {
   "cell_type": "markdown",
   "id": "2d320ced-4b9f-4c79-bedc-eb341b440129",
   "metadata": {},
   "source": [
    "### 1.1.2. Float"
   ]
  },
  {
   "cell_type": "markdown",
   "id": "0849ad18-d4f0-4718-927a-1a0a7410ee94",
   "metadata": {},
   "source": [
    "Float merupakan tipe data berupa bilangan desimal. Float dapat dituliskan dengan 'float'. Ketika kita menuliskan nilai desimal pada suatu variabel dengan mendefinisikan tipe data tersebut berupa integer, maka angka setelah koma akan diabaikan. "
   ]
  },
  {
   "cell_type": "code",
   "execution_count": 2,
   "id": "0108f921-a54c-4d0e-9654-fe0bb3fdeab6",
   "metadata": {},
   "outputs": [
    {
     "name": "stdout",
     "output_type": "stream",
     "text": [
      "ini_variabel_integer = 11\n",
      "Tipe data variabel ini = <class 'int'>\n",
      "ini_variabel = 11.333\n",
      "Tipe data variabel ini = <class 'float'>\n"
     ]
    }
   ],
   "source": [
    "ini_variabel = 11.333\n",
    "ini_variabel_integer = int(ini_variabel)\n",
    "\n",
    "print(f\"ini_variabel_integer = {ini_variabel_integer}\")\n",
    "print(f'Tipe data variabel ini = {type(ini_variabel_integer)}')\n",
    "print(f\"ini_variabel = {ini_variabel}\")\n",
    "print(f'Tipe data variabel ini = {type(ini_variabel)}')"
   ]
  },
  {
   "cell_type": "markdown",
   "id": "6f8c1163-acc4-4ffa-9006-15e9d23aa50f",
   "metadata": {},
   "source": [
    "### 1.1.3. Complex Number"
   ]
  },
  {
   "cell_type": "markdown",
   "id": "cc4d5883-f7ec-4e16-baba-03dabee2cf7a",
   "metadata": {},
   "source": [
    "Complex number merupakan tipe data yang terdiri dari bilangan real dan bilangan imajiner. Complex number dapat dituliskan dengan 'complex'. Tipe data ini banyak digunakan pada notasi matematika. "
   ]
  },
  {
   "cell_type": "code",
   "execution_count": 3,
   "id": "d3cfbe6b-8d23-4abc-bdd0-46eca5fc7f0b",
   "metadata": {},
   "outputs": [
    {
     "name": "stdout",
     "output_type": "stream",
     "text": [
      "ini_variabel = (1+4j)\n",
      "Tipe data = <class 'complex'>\n"
     ]
    }
   ],
   "source": [
    "ini_variabel = 1 + 4j\n",
    "\n",
    "print(f\"ini_variabel = {ini_variabel}\")\n",
    "print(f\"Tipe data = {type(ini_variabel)}\")"
   ]
  },
  {
   "cell_type": "markdown",
   "id": "5c4aaf17-bb8b-4efb-a0bf-da41f4a1e251",
   "metadata": {},
   "source": [
    "## 1.2. String"
   ]
  },
  {
   "cell_type": "markdown",
   "id": "e0f7eb07-552e-40e8-aa4d-3300445759e4",
   "metadata": {},
   "source": [
    "String merupakan tipe data berupa teks. String dapat dituliskan dengan 'str'. String dapat dideklarasikan dengan menggunakan kutip tunggal atau ganda. "
   ]
  },
  {
   "cell_type": "code",
   "execution_count": 4,
   "id": "c00c812b-058b-4c24-9553-8b6ebb86e004",
   "metadata": {},
   "outputs": [
    {
     "name": "stdout",
     "output_type": "stream",
     "text": [
      "string dengan kutip tunggal\n",
      "string dengan kutip ganda\n",
      "tipe data kutip tunggal = <class 'str'>\n",
      "tipe data kutip ganda = <class 'str'>\n"
     ]
    }
   ],
   "source": [
    "kutip_tunggal = 'string dengan kutip tunggal'\n",
    "kutip_ganda = \"string dengan kutip ganda\"\n",
    "\n",
    "print(kutip_tunggal)\n",
    "print(kutip_ganda)\n",
    "print(f\"tipe data kutip tunggal = {type(kutip_tunggal)}\")\n",
    "print(f\"tipe data kutip ganda = {type(kutip_ganda)}\")"
   ]
  },
  {
   "cell_type": "markdown",
   "id": "daaa92ec-23b6-4342-9fef-1e00b874ffcb",
   "metadata": {},
   "source": [
    "Untuk membuat string multi-line atau lebih dari 1 baris, dapat menggunakan kutip tunggal ataupun ganda sebanyak 3 kali. Jika menggunakan string ini, didalam string dapat mengandung tanda kutip, karena tanda tersebut tidak akan dibaca oleh sistem sebagai penutup."
   ]
  },
  {
   "cell_type": "code",
   "execution_count": 5,
   "id": "e432b35d-be83-4f77-b8b5-63237102ba7b",
   "metadata": {},
   "outputs": [
    {
     "name": "stdout",
     "output_type": "stream",
     "text": [
      "ini merupakan string multi-line\n",
      "kita coba untuk menulis tanda kutip '\" \n",
      "ini baris ke3 dan tidak eror\n"
     ]
    }
   ],
   "source": [
    "s = '''ini merupakan string multi-line\n",
    "kita coba untuk menulis tanda kutip '\" \n",
    "ini baris ke3 dan tidak eror'''\n",
    "\n",
    "print(s)"
   ]
  },
  {
   "cell_type": "markdown",
   "id": "d096058e-392c-41f4-ba2a-ff7266ec807b",
   "metadata": {},
   "source": [
    "Tipe data string pada python juga dapat digabungkan dengan menggunakan tanda plus atau operator tambah pada aritmatika (+)."
   ]
  },
  {
   "cell_type": "code",
   "execution_count": 6,
   "id": "e4425a7b-0ca6-44c8-8973-524adf4c227f",
   "metadata": {},
   "outputs": [
    {
     "name": "stdout",
     "output_type": "stream",
     "text": [
      "string pertama dan string kedua\n"
     ]
    }
   ],
   "source": [
    "s = \"string pertama\"\n",
    "t = \"string kedua\"\n",
    "\n",
    "print(s + \" dan \" + t)"
   ]
  },
  {
   "cell_type": "markdown",
   "id": "03b38155-dd39-48d2-9aeb-a0b572ee75a5",
   "metadata": {},
   "source": [
    "String merupakan tipe data yang bersifat immutable, artinya objek pada tipe data ini tidak dapat diubah. Namun karakter pada string bersifat mutable, hanya dapat dilakukan slicing. "
   ]
  },
  {
   "cell_type": "code",
   "execution_count": 7,
   "id": "eeb7977e-17dc-4187-b172-ff49268b6959",
   "metadata": {},
   "outputs": [
    {
     "name": "stdout",
     "output_type": "stream",
     "text": [
      "i\n",
      "bersifat\n"
     ]
    }
   ],
   "source": [
    "s = \"String bersifat Immutable\"\n",
    "\n",
    "print(s[3])\n",
    "print(s[7:15])"
   ]
  },
  {
   "cell_type": "markdown",
   "id": "01749161-7134-4213-990e-0565e922d1f0",
   "metadata": {},
   "source": [
    "## 1.3. List"
   ]
  },
  {
   "cell_type": "markdown",
   "id": "ce697e52-cb6a-4bad-8481-1372e9f6db65",
   "metadata": {},
   "source": [
    "List merupakan tipe data berurutan atau ordered sequence. Dengan menggunakan list, kita bisa menyimpan lebih dari satu nilai pada satu variabel. Deklarasi list ditandai dengan kurung siku ([]) dan dipisahkan dengan koma. List bersifat mutable, artinya elemen didalam list dapat diubah dan diakses menggunakan proses slicing. Index pada elemen list dimulai dari 0. List pada Python seperti sebuah array pada bahasa pemrograman lain, bedanya jika pada array, tipe data pada elemen hanya bisa satu tipe data, sedangkan pada list, elemen tidak harus memiliki tipe data yang sama."
   ]
  },
  {
   "cell_type": "code",
   "execution_count": 8,
   "id": "f19f2c43-07af-4ecd-b8e1-9255e35584ac",
   "metadata": {},
   "outputs": [
    {
     "name": "stdout",
     "output_type": "stream",
     "text": [
      "Elemen List\ta\t1\t4.5\tb\n",
      "Index\t\t0\t1\t2\t3\n"
     ]
    }
   ],
   "source": [
    "contoh_list = ['a', 1, 4.5, 'b']\n",
    "\n",
    "print(\"Elemen List\\t\" + \"\\t\".join(map(str, contoh_list)))\n",
    "print(\"Index\\t\\t\" + \"\\t\".join(map(str, range(len(contoh_list)))))"
   ]
  },
  {
   "cell_type": "markdown",
   "id": "74b3d05b-934b-4997-8907-a815cacde16a",
   "metadata": {},
   "source": [
    "Berikut merupakan cara untuk menggunakan proses slicing untuk mengakses elemen yang terdapat pada list. Asumsikan bahwa kita mempunya sebuah variabel dengan tipe data list bernama var_list.\n",
    "- var_list[i], memilih elemen pada index ke-i dalam elemen python, dihitung mulai dari index awal, yaitu 0.\n",
    "- var_list[-i], memilih elemen pada index ke-i dalam elemen python, dihitung mulai dai index akhir, yaitu index ke-n.\n",
    "- var_list[i:j], memilih elemen dalam range mulai dari index ke-i sampai index ke-(j-1).\n",
    "- var_list[:j), memilih elemen dalam range mulai dari index awal, yaitu index 0 sampai index ke-(j-1).\n",
    "- var_list[-i:], memilih elemen dalam range mulai dari index ke-i sampai index terakhir, yaitu index ke-(n-1)\n",
    "- var_list[i:jik], memilih elemen dalam range mulai dari index ke-i sampai index ke-(j-1) dengan 'step' k. "
   ]
  },
  {
   "cell_type": "code",
   "execution_count": 9,
   "id": "b7c731e6-ab70-4367-81ad-1443ed4ad9bd",
   "metadata": {},
   "outputs": [
    {
     "name": "stdout",
     "output_type": "stream",
     "text": [
      "7.5\n",
      "6\n",
      "['test', 7.5, 'b']\n",
      "[3, 'test', 7.5, 'b']\n",
      "[6, 4]\n",
      "['test', 'b', 6]\n"
     ]
    }
   ],
   "source": [
    "var_list = [3, 'test', 7.5, 'b', 1, 6, 4]\n",
    "\n",
    "print(var_list[2])\n",
    "print(var_list[-2])\n",
    "print(var_list[1:4])\n",
    "print(var_list[:4])\n",
    "print(var_list[-2:])\n",
    "print(var_list[1:6:2])"
   ]
  },
  {
   "cell_type": "markdown",
   "id": "ceed840b-5429-4b7f-a266-1b810b3e1f10",
   "metadata": {},
   "source": [
    "Karena list merupakan tipe data yang bersifat mutable, kita dapat mengubah elemen dalam list, menambahkan ataupun menghapus elemen. "
   ]
  },
  {
   "cell_type": "markdown",
   "id": "4e7ec8bd-170a-4b5b-ac46-7535140b3df9",
   "metadata": {},
   "source": [
    "### 1.3.1. Menambahkan Elemen List"
   ]
  },
  {
   "cell_type": "markdown",
   "id": "7fe3d26d-9667-456c-8e39-7f6e61d1e86c",
   "metadata": {},
   "source": [
    "Terdapat beberapa cara untuk menambahkan elemen pada list:\n",
    "1. Dengan menggunakan method append, maka kita akan menambahkan elemen baru ke dalam list pada urutan terakhir. "
   ]
  },
  {
   "cell_type": "code",
   "execution_count": 10,
   "id": "3e02cab8-94e7-4042-8889-b7fb84d7c3e4",
   "metadata": {},
   "outputs": [
    {
     "name": "stdout",
     "output_type": "stream",
     "text": [
      "['kucing', 'burung', 'kelinci', 'anjing']\n",
      "['kucing', 'burung', 'kelinci', 'anjing', 'kuda']\n"
     ]
    }
   ],
   "source": [
    "hewan = ['kucing', 'burung', 'kelinci', 'anjing']\n",
    "print(hewan)\n",
    "\n",
    "hewan.append('kuda')\n",
    "print(hewan)"
   ]
  },
  {
   "cell_type": "markdown",
   "id": "0ea1945a-1404-4879-98b8-d84ae454f5dd",
   "metadata": {},
   "source": [
    "2. menggunakan method extend. Dengan metode ini, jika kita menambahkan elemen list beerupa tipe data list, maka semua elemen list yang baru akan digabungkan dengan elemen list yang ada."
   ]
  },
  {
   "cell_type": "code",
   "execution_count": 11,
   "id": "677e2fac-b270-47de-a780-1ac04e650da2",
   "metadata": {},
   "outputs": [
    {
     "name": "stdout",
     "output_type": "stream",
     "text": [
      "['kucing', 'burung', 'kelinci', ['merah', 'kuning']]\n",
      "['kucing', 'burung', 'kelinci', 'merah', 'kuning']\n"
     ]
    }
   ],
   "source": [
    "hewan = ['kucing', 'burung', 'kelinci']\n",
    "warna = ['merah', 'kuning']\n",
    "hewan.append(warna)\n",
    "print(hewan)\n",
    "\n",
    "hewan2 = ['kucing', 'burung', 'kelinci']\n",
    "warna = ['merah', 'kuning']\n",
    "hewan2.extend(warna)\n",
    "print(hewan2)\n"
   ]
  },
  {
   "cell_type": "markdown",
   "id": "e2a13e0f-0b2f-4b27-a1a0-345d8f5e75f1",
   "metadata": {},
   "source": [
    "3. Dengan menggunakan method insert. Kita dapat menentukan pada indeks ke berapa elemen baru yang akan ditambahkan. "
   ]
  },
  {
   "cell_type": "code",
   "execution_count": 12,
   "id": "9a736ba0-6b58-467f-b38d-73cfb0119370",
   "metadata": {},
   "outputs": [
    {
     "name": "stdout",
     "output_type": "stream",
     "text": [
      "['kucing', 'burung', 'kelinci', 'anjing']\n",
      "['kuda', 'kucing', 'burung', 'kelinci', 'anjing']\n"
     ]
    }
   ],
   "source": [
    "hewan = ['kucing', 'burung', 'kelinci', 'anjing']\n",
    "print (hewan)\n",
    "\n",
    "hewan.insert(0, 'kuda')\n",
    "print (hewan)"
   ]
  },
  {
   "cell_type": "markdown",
   "id": "0646792c-0562-4ae4-bb55-8538aca7e8c2",
   "metadata": {},
   "source": [
    "4. Mengubah elemen list untuk mengubah elemen dalam list bisa menggunakan konsep yang sama dengan replace. Tentukan elemen pada indeks keberapa yang akan diubah terlebih dahulu. "
   ]
  },
  {
   "cell_type": "code",
   "execution_count": 13,
   "id": "825e6e68-4b3f-4968-985d-6d8de79d2d70",
   "metadata": {},
   "outputs": [
    {
     "name": "stdout",
     "output_type": "stream",
     "text": [
      "['kucing', 'burung', 'kelinci']\n",
      "['anjing', 'burung', 'kelinci']\n"
     ]
    }
   ],
   "source": [
    "hewan = ['kucing', 'burung', 'kelinci'] \n",
    "print(hewan)\n",
    "\n",
    "hewan [0] = 'anjing' \n",
    "print(hewan)"
   ]
  },
  {
   "cell_type": "markdown",
   "id": "4587c2fd-a265-4c17-a1a2-3f9c3f66affc",
   "metadata": {},
   "source": [
    "### 1.3.2. Menghapus Elemen List"
   ]
  },
  {
   "cell_type": "markdown",
   "id": "f07bdff2-ff22-4631-a0ad-360bf5193456",
   "metadata": {},
   "source": [
    "Terdapat 3 cara untuk menghapus elemen pada list:\n",
    "1. Menggunakan fungsi del. Fungsi ini akan menghapus elemen berdasarkan indeks. "
   ]
  },
  {
   "cell_type": "code",
   "execution_count": 14,
   "id": "cc91edc2-05fe-40bc-9a6e-0a1e7db90377",
   "metadata": {},
   "outputs": [
    {
     "name": "stdout",
     "output_type": "stream",
     "text": [
      "['kucing', 'burung', 'anjing', 'kelinci']\n",
      "['kucing', 'burung', 'kelinci']\n"
     ]
    }
   ],
   "source": [
    "hewan = ['kucing', 'burung', 'anjing', 'kelinci']\n",
    "print(hewan)\n",
    "\n",
    "del hewan[2]\n",
    "print(hewan)"
   ]
  },
  {
   "cell_type": "markdown",
   "id": "d4be6cf8-1ea4-41b3-ab36-1353abe6fd74",
   "metadata": {},
   "source": [
    "2. Menggunakan method remove. Method ini akan menghapus elemen pada list berdasarkan nama dari elemen tersebut. "
   ]
  },
  {
   "cell_type": "code",
   "execution_count": 15,
   "id": "422db84b-16cf-472c-8d3a-7f14069b80e6",
   "metadata": {},
   "outputs": [
    {
     "name": "stdout",
     "output_type": "stream",
     "text": [
      "['kucing', 'burung', 'anjing', 'kelinci']\n",
      "['kucing', 'burung', 'kelinci']\n"
     ]
    }
   ],
   "source": [
    "hewan = [\"kucing\", \"burung\", \"anjing\", \"kelinci\"]\n",
    "print(hewan)\n",
    "\n",
    "hewan.remove(\"anjing\")\n",
    "print(hewan)"
   ]
  },
  {
   "cell_type": "markdown",
   "id": "b4afe071-06c7-4500-95cc-719e46e913b7",
   "metadata": {},
   "source": [
    "3. Menggunakan method pop. Cara kerja method ini yaitu mengeluarkan elemen pada list sehingga elemen yang dikeluarkan dapat dimasukkan kembali pada variabel lain. "
   ]
  },
  {
   "cell_type": "code",
   "execution_count": 16,
   "id": "3da62fa4-7a6d-410e-84ce-1412e729baff",
   "metadata": {},
   "outputs": [
    {
     "name": "stdout",
     "output_type": "stream",
     "text": [
      "['kucing', 'burung', 'anjing', 'kelinci']\n",
      "['kucing', 'burung', 'kelinci']\n",
      "anjing\n"
     ]
    }
   ],
   "source": [
    "hewan = [\"kucing\", \"burung\", \"anjing\", \"kelinci\"]\n",
    "print(hewan)\n",
    "\n",
    "out = hewan.pop(2)\n",
    "print(hewan)\n",
    "print(out)"
   ]
  },
  {
   "cell_type": "markdown",
   "id": "67311984-d94f-407d-8265-43b89b87829e",
   "metadata": {},
   "source": [
    "Pada list juga terdapat beberapa operasi yang dapat dilakukan, yaitu menghitung banyaknya elemen pada list, menemukan indeks pada suatu elemen, mengurutkan elemen, menggabungkan list, melakukan replikasi, dan lain sebagainya. "
   ]
  },
  {
   "cell_type": "code",
   "execution_count": 17,
   "id": "3818a90f-e5e1-4197-82fd-446833f0bfe5",
   "metadata": {},
   "outputs": [
    {
     "name": "stdout",
     "output_type": "stream",
     "text": [
      "len hewan = 4\n",
      "index hewan = 1\n",
      "count angka 2 = 2\n",
      "hewan.sort = ['anjing', 'burung', 'kelinci', 'kucing']\n",
      "hewan reverse sort = ['kucing', 'kelinci', 'burung', 'anjing']\n",
      "hewan + angka = ['kucing', 'kelinci', 'burung', 'anjing', 4, 2, 8, 2]\n",
      "angka x 2 = [4, 2, 8, 2, 4, 2, 8, 2]\n"
     ]
    }
   ],
   "source": [
    "hewan = ['kucing', 'burung', 'anjing', 'kelinci']\n",
    "angka = [4, 2, 8, 2]\n",
    "\n",
    "# Menghitung banyaknya elemen pada list hewan menggunakan fungsi len\n",
    "print(f\"len hewan = {len(hewan)}\")\n",
    "\n",
    "# Mengetahui index pada elemen tertentu menggunakan method index\n",
    "print(f\"index hewan = {hewan.index('burung')}\")\n",
    "\n",
    "# Menghitung banyaknya elemen tertentu menggunakan method count\n",
    "print(f\"count angka 2 = {angka.count(2)}\")\n",
    "\n",
    "# Mengurutkan elemen pada list dengan fungsi sort\n",
    "hewan.sort()\n",
    "print(f\"hewan.sort = {hewan}\")\n",
    "\n",
    "# Mengurutkan elemen secara descending\n",
    "hewan.sort(reverse = True)\n",
    "print(f\"hewan reverse sort = {hewan}\")\n",
    "\n",
    "# Menggabungkan menggunakan operator +\n",
    "print(f\"hewan + angka = {hewan + angka}\")\n",
    "\n",
    "# Mereplikasi menggunakan operator *\n",
    "print(f\"angka x 2 = {angka * 2}\")\n"
   ]
  },
  {
   "cell_type": "markdown",
   "id": "b217f241-261d-4249-9038-642be81f3732",
   "metadata": {},
   "source": [
    "## 1.4. Tuple"
   ]
  },
  {
   "cell_type": "markdown",
   "id": "2f544676-e5a8-4e5b-aff9-9a47b1b6bcdb",
   "metadata": {},
   "source": [
    "Tipe data tuple merupakan tipe data yang mirip dengan list, perbedaannya hanya terdapat pada sifat dari tipe datanya. Tuple merupakan tipe data terurut atau ordered sequence yang bersifat immutable, artinya elemen pada tuple dapat diakses menggunakan proses slicing namun nilainya tidak dapat diubah. Tuple dideklarasikan dengan tanda kurung() dan elemen di dalamnya dipisahkan dengan koma. "
   ]
  },
  {
   "cell_type": "code",
   "execution_count": 18,
   "id": "1f97fbde-90e5-4c44-8a5a-b71b7ff59d33",
   "metadata": {},
   "outputs": [
    {
     "name": "stdout",
     "output_type": "stream",
     "text": [
      "<class 'tuple'>\n",
      "s\n",
      "(5, 's', 'r')\n",
      "('a', 5, 's', 'r', 6)\n"
     ]
    }
   ],
   "source": [
    "var_tuple = (\"a\", 5, \"s\", \"r\", 6)\n",
    "print(type(var_tuple))\n",
    "\n",
    "# proses slicing\n",
    "print(var_tuple[2])\n",
    "print(var_tuple[1:4])\n",
    "print(var_tuple[:5])"
   ]
  },
  {
   "cell_type": "markdown",
   "id": "e8cfd7cf-ba14-4422-a0c5-ec3c5b49c784",
   "metadata": {},
   "source": [
    "Merubah elemen pada tuple akan mendapatkan pesan eror."
   ]
  },
  {
   "cell_type": "code",
   "execution_count": 19,
   "id": "9bf706c0-fa32-4971-8a9d-d3fde7ed4952",
   "metadata": {},
   "outputs": [
    {
     "ename": "TypeError",
     "evalue": "'tuple' object does not support item assignment",
     "output_type": "error",
     "traceback": [
      "\u001b[1;31m---------------------------------------------------------------------------\u001b[0m",
      "\u001b[1;31mTypeError\u001b[0m                                 Traceback (most recent call last)",
      "Cell \u001b[1;32mIn[19], line 2\u001b[0m\n\u001b[0;32m      1\u001b[0m var_tuple \u001b[38;5;241m=\u001b[39m (\u001b[38;5;124m\"\u001b[39m\u001b[38;5;124ma\u001b[39m\u001b[38;5;124m\"\u001b[39m, \u001b[38;5;241m5\u001b[39m, \u001b[38;5;124m\"\u001b[39m\u001b[38;5;124ms\u001b[39m\u001b[38;5;124m\"\u001b[39m, \u001b[38;5;124m\"\u001b[39m\u001b[38;5;124mr\u001b[39m\u001b[38;5;124m\"\u001b[39m, \u001b[38;5;241m6\u001b[39m)\n\u001b[1;32m----> 2\u001b[0m \u001b[43mvar_tuple\u001b[49m\u001b[43m[\u001b[49m\u001b[38;5;241;43m1\u001b[39;49m\u001b[43m]\u001b[49m \u001b[38;5;241m=\u001b[39m \u001b[38;5;124m\"\u001b[39m\u001b[38;5;124mganti\u001b[39m\u001b[38;5;124m\"\u001b[39m\n\u001b[0;32m      4\u001b[0m \u001b[38;5;28mprint\u001b[39m(\u001b[38;5;28mtype\u001b[39m(var_tuple))\n",
      "\u001b[1;31mTypeError\u001b[0m: 'tuple' object does not support item assignment"
     ]
    }
   ],
   "source": [
    "var_tuple = (\"a\", 5, \"s\", \"r\", 6)\n",
    "var_tuple[1] = \"ganti\"\n",
    "\n",
    "print(type(var_tuple))"
   ]
  },
  {
   "cell_type": "markdown",
   "id": "584f5a07-a19f-4678-9a97-951707fd7527",
   "metadata": {},
   "source": [
    "## 1.5. Set"
   ]
  },
  {
   "cell_type": "markdown",
   "id": "56832988-0459-4018-a318-2da07e96830a",
   "metadata": {},
   "source": [
    "Set merupakan tipe data kumpulan elemen yang bersifat tidak terurut atau unordered collection. Karena merupakan tipe data yang tidak terurut, maka kita tidak bisa melakukan proses slicing. Set dideklarasikan dengan kurung kurawal{}. Elemen dalam set dipisahkan dengan koma. "
   ]
  },
  {
   "cell_type": "code",
   "execution_count": 20,
   "id": "8f579486-4e0e-4a0a-9b0d-d07781abdce5",
   "metadata": {},
   "outputs": [
    {
     "name": "stdout",
     "output_type": "stream",
     "text": [
      "{1, 2, 4, 5, 7, 8, 'a', 'b'}\n",
      "<class 'set'>\n"
     ]
    }
   ],
   "source": [
    "var_set = {1, 8, 2, \"a\", 5, 4, \"b\", 7, 4, 4, 4}\n",
    "print(var_set)\n",
    "print(type(var_set))"
   ]
  },
  {
   "cell_type": "markdown",
   "id": "c00ede01-5c4a-467b-8549-5b5018dfdeab",
   "metadata": {},
   "source": [
    "Apabila kita mencoba melakukan proses slicing berdasarkan indeks, maka anak mendapatkan pesan eror."
   ]
  },
  {
   "cell_type": "code",
   "execution_count": 21,
   "id": "94c7d8e7-b65d-4b38-92f6-ce20d9b4d1a0",
   "metadata": {},
   "outputs": [
    {
     "ename": "TypeError",
     "evalue": "'set' object is not subscriptable",
     "output_type": "error",
     "traceback": [
      "\u001b[1;31m---------------------------------------------------------------------------\u001b[0m",
      "\u001b[1;31mTypeError\u001b[0m                                 Traceback (most recent call last)",
      "Cell \u001b[1;32mIn[21], line 2\u001b[0m\n\u001b[0;32m      1\u001b[0m var_set \u001b[38;5;241m=\u001b[39m {\u001b[38;5;241m1\u001b[39m, \u001b[38;5;241m8\u001b[39m, \u001b[38;5;241m2\u001b[39m, \u001b[38;5;124m\"\u001b[39m\u001b[38;5;124ma\u001b[39m\u001b[38;5;124m\"\u001b[39m, \u001b[38;5;241m5\u001b[39m, \u001b[38;5;241m4\u001b[39m, \u001b[38;5;124m\"\u001b[39m\u001b[38;5;124mb\u001b[39m\u001b[38;5;124m\"\u001b[39m, \u001b[38;5;241m7\u001b[39m, \u001b[38;5;241m4\u001b[39m, \u001b[38;5;241m4\u001b[39m, \u001b[38;5;241m4\u001b[39m}\n\u001b[1;32m----> 2\u001b[0m \u001b[38;5;28mprint\u001b[39m(\u001b[43mvar_set\u001b[49m\u001b[43m[\u001b[49m\u001b[38;5;241;43m3\u001b[39;49m\u001b[43m]\u001b[49m)\n",
      "\u001b[1;31mTypeError\u001b[0m: 'set' object is not subscriptable"
     ]
    }
   ],
   "source": [
    "var_set = {1, 8, 2, \"a\", 5, 4, \"b\", 7, 4, 4, 4}\n",
    "print(var_set[3])"
   ]
  },
  {
   "cell_type": "markdown",
   "id": "1835ca08-89be-4442-bdc6-0e34d466e950",
   "metadata": {},
   "source": [
    "Tipe data set juga dapat digunakan untuk melakukan proses himpunan seperti pada himpunan matematika, yaitu melakukan union, intersection, dan lain sebagainya. "
   ]
  },
  {
   "cell_type": "code",
   "execution_count": 22,
   "id": "2b106036-3025-43cc-9e10-385893018b95",
   "metadata": {},
   "outputs": [
    {
     "name": "stdout",
     "output_type": "stream",
     "text": [
      "{2, 6}\n",
      "{1, 2, 3, 4, 5, 6, 7, 8, 9}\n",
      "{1, 3, 4, 5}\n"
     ]
    }
   ],
   "source": [
    "var_set1 = {4, 1, 2, 3, 4, 4, 5, 6}\n",
    "var_set2 = {6, 8, 8, 9, 2, 7}\n",
    "\n",
    "print(var_set1.intersection(var_set2))\n",
    "print(var_set1.union(var_set2))\n",
    "print(var_set1.difference(var_set2))"
   ]
  },
  {
   "cell_type": "markdown",
   "id": "24a24ae3-385b-4e59-b473-cb552a468c89",
   "metadata": {},
   "source": [
    "Walaupun tidak dapat diubah, elemen pada tipe data set masih dapat dihapus dan ditambahkan. "
   ]
  },
  {
   "cell_type": "code",
   "execution_count": 23,
   "id": "bb03e1f9-ca93-43c8-bdbf-66c46d8a200c",
   "metadata": {},
   "outputs": [
    {
     "name": "stdout",
     "output_type": "stream",
     "text": [
      "{1, 2, 3, 4, 5}\n",
      "{1, 2, 3, 4, 5, 10}\n"
     ]
    }
   ],
   "source": [
    "var_set = {4, 1, 2, 3, 4, 4, 5, 6}\n",
    "\n",
    "#hapus elemen set berdasarkan nama elemennya menggunakan method remove\n",
    "var_set.remove(6)\n",
    "print(var_set)\n",
    "\n",
    "#tambah elemen set menggunakan method add\n",
    "var_set.add(10)\n",
    "print(var_set)"
   ]
  },
  {
   "cell_type": "markdown",
   "id": "75b145b9-ba21-4c91-9134-ba032503dc05",
   "metadata": {},
   "source": [
    "## 1.6. Dictionary"
   ]
  },
  {
   "cell_type": "markdown",
   "id": "a23df831-21ac-48e8-8543-0176da387f9a",
   "metadata": {},
   "source": [
    "Dictionary merupakan tipe data python yang memiliki pasangan kunci dan nilai (key-value pairs). Untuk mengakses elemen pada dictionary, kita perlu mengetahui key pada elemen tersebut. Dictionary merupakan tipe data yang bersifat mutable, artinya elemen berupa value dalam dictionary dapat diubah tetapi key-nya tidak dapat diubah, karena key bersifat unik. Selain unik, key pada dictionary dapat menggunakan tipe data yang bervariasi dan untuk mengubah key terdapat beberapa pendekatan khusus. Dictionary dideklarasikan dengan tanda kurung kurawal{} dengan elemen pasangan key dan value-nya dipisahkan dengan koma. Pemisah antara key dan value menggunakan titik dua(key: value)."
   ]
  },
  {
   "cell_type": "code",
   "execution_count": 24,
   "id": "1e5cb6d6-f165-493c-87b3-24a42ebe2a8c",
   "metadata": {},
   "outputs": [
    {
     "name": "stdout",
     "output_type": "stream",
     "text": [
      "{'nama': 'Arif', 'umur': 25, 'key': 'value', 'test': 100}\n"
     ]
    }
   ],
   "source": [
    "var_dict = {\"nama\": \"Arif\", \n",
    "            \"umur\": 25, \n",
    "            \"key\": \"value\",\n",
    "            \"test\": 100}\n",
    "\n",
    "print(var_dict)"
   ]
  },
  {
   "cell_type": "markdown",
   "id": "4e22c549-634c-40e9-bb2b-02d59eb2981a",
   "metadata": {},
   "source": [
    "Karena dictionary bukan merupakan tipe data terurut, maka ketika kita mencoba untuk mengakses elemen pada dictionary menggunakan indeks, sistem akan menganggap indeks yang kita maksud adalah sebuah key. Sehingga jika key tersebut tidak terdapat pada dictionary, maka akan menghasilkan sebuah pesan eror. "
   ]
  },
  {
   "cell_type": "code",
   "execution_count": 25,
   "id": "727ab6b0-a67c-4850-a2ae-72724676549c",
   "metadata": {},
   "outputs": [
    {
     "ename": "TypeError",
     "evalue": "'dict' object is not callable",
     "output_type": "error",
     "traceback": [
      "\u001b[1;31m---------------------------------------------------------------------------\u001b[0m",
      "\u001b[1;31mTypeError\u001b[0m                                 Traceback (most recent call last)",
      "Cell \u001b[1;32mIn[25], line 1\u001b[0m\n\u001b[1;32m----> 1\u001b[0m \u001b[38;5;28mprint\u001b[39m(\u001b[43mvar_dict\u001b[49m\u001b[43m(\u001b[49m\u001b[38;5;241;43m2\u001b[39;49m\u001b[43m)\u001b[49m)\n",
      "\u001b[1;31mTypeError\u001b[0m: 'dict' object is not callable"
     ]
    }
   ],
   "source": [
    "print(var_dict(2))"
   ]
  },
  {
   "cell_type": "markdown",
   "id": "84c33157-72fb-436e-a641-f1a9cc721f88",
   "metadata": {},
   "source": [
    "## 1.7. Konversi Tipe Data"
   ]
  },
  {
   "cell_type": "markdown",
   "id": "fba7ed54-efad-43fb-81e2-0ec66b705731",
   "metadata": {},
   "source": [
    "Beberapa tipe data dapat dikonversi menjadi tipe data yang lain menggunakan fungsi bawaan yang telah tersedia pada Python dengan syarat bahwa tipe data yang mau dikonversi memenuhi kriteria tertentu yang memungkinkan untuk dikonversi. Seperti contoh, tipe data string dengan nilai 10px tidak akan bisa dikonversi menjadi tipe data integer, karena pada nilai tersebut terdapat karakter yang tidak memungkinkan untuk dikonversi kedalam integer. Kriteria lain untuk mengkonversi tipe data adalah sesuaikan kedua tipe data, jika tipe data yang mau dikonversi merupakan tipe data jenis kumpulan elemen, maka konversi juga ke tipe data yang sama, yaitu tipe data jenis kumpulan. Berikut akan diberikan contoh beberapa konversi tipe data. "
   ]
  },
  {
   "cell_type": "markdown",
   "id": "c3123128-3862-4808-b773-e90d2fc26a81",
   "metadata": {},
   "source": [
    "<img src=\".\\image\\konversi_tipe_data.png\" alt=\"konversi_tipe_data.png\" style=\"width: 100%;\">"
   ]
  },
  {
   "cell_type": "code",
   "execution_count": 26,
   "id": "ca192292-20c3-4788-8d98-79c0ea80a98b",
   "metadata": {},
   "outputs": [
    {
     "name": "stdout",
     "output_type": "stream",
     "text": [
      "3.0\n",
      "<class 'float'>\n",
      "4\n",
      "<class 'int'>\n",
      "4.777\n",
      "<class 'str'>\n",
      "-10\n",
      "<class 'int'>\n"
     ]
    }
   ],
   "source": [
    "var_int = 3\n",
    "var_float = 4.777\n",
    "var_string = '-10'\n",
    "\n",
    "#konversi integer to float \n",
    "print(float(var_int))\n",
    "print(type(float(var_int)))\n",
    "\n",
    "#konversi float to integer \n",
    "print(int(var_float))\n",
    "print(type(int(var_float)))\n",
    "\n",
    "#konversi float to String \n",
    "print(str(var_float))\n",
    "print(type(str(var_float)))\n",
    "\n",
    "#konversi string to integer \n",
    "print(int(var_string))\n",
    "print(type(int(var_string)))"
   ]
  },
  {
   "cell_type": "markdown",
   "id": "19fadaa5-4a24-4382-8d32-bd488799462f",
   "metadata": {},
   "source": [
    "Konversi tipe data yang merupakan kumpulan data."
   ]
  },
  {
   "cell_type": "code",
   "execution_count": 27,
   "id": "76e39f4d-106e-452c-aed3-91274bc6c43f",
   "metadata": {},
   "outputs": [
    {
     "name": "stdout",
     "output_type": "stream",
     "text": [
      "(1, 2, 4, 2, 2, 3)\n",
      "{1, 2, 3, 4}\n",
      "[1, 5, 2, 3, 5, 4]\n",
      "{1, 2, 3, 4, 5}\n",
      "[5, 6, 7, 8, 9]\n",
      "(5, 6, 7, 8, 9)\n"
     ]
    }
   ],
   "source": [
    "var_list = [1,2,4,2,2,3]\n",
    "var_tuple = (1,5,2,3,5,4)\n",
    "var_set = {6,8,7,7,7,9,5}\n",
    "\n",
    "#konversi list to tuple \n",
    "print(tuple(var_list))\n",
    "\n",
    "#konversi list to set \n",
    "print(set(var_list))\n",
    "\n",
    "#konversi tuple to list \n",
    "print(list(var_tuple))\n",
    "\n",
    "#konversi tuple to set \n",
    "print(set(var_tuple))\n",
    "\n",
    "#konversi set to list \n",
    "print(list(var_set))\n",
    "\n",
    "#konversi set to tuple \n",
    "print(tuple(var_set))"
   ]
  },
  {
   "cell_type": "markdown",
   "id": "e0f325ca-a1b2-4043-93be-c6a8ba07bb89",
   "metadata": {},
   "source": [
    "<h1 style=\"text-align: center;\"> BAB 2 OPERASI PADA PYTHON </h1>"
   ]
  },
  {
   "cell_type": "markdown",
   "id": "07cf195d-4a98-4615-becf-3e756be45cad",
   "metadata": {},
   "source": [
    "Berikut adalah beberapa operator python yang sering digunakan."
   ]
  },
  {
   "cell_type": "markdown",
   "id": "58c9740b-eb01-47ce-be32-fef8e9a27622",
   "metadata": {},
   "source": [
    "## 2.1. Operator Aritmatika"
   ]
  },
  {
   "cell_type": "markdown",
   "metadata": {},
   "source": [
    "<img src=\".\\image\\operator_aritmatika.png\" alt=\"operator_aritmatika.png\" style=\"width: 100%;\">"
   ]
  },
  {
   "cell_type": "markdown",
   "id": "66a27242-bc8e-4d72-8906-cf1592c2543e",
   "metadata": {},
   "source": [
    "## 2.2. Operator Perbandingan"
   ]
  },
  {
   "cell_type": "markdown",
   "id": "000db757-46e5-416c-b385-41ecfecb06b8",
   "metadata": {},
   "source": [
    "<img src='.\\image\\operator_perbandingan.png' alt='operator_perbandingan.png' style='width: 100%;'>"
   ]
  },
  {
   "cell_type": "markdown",
   "id": "3ff4b10a-08de-472f-84dd-2a0266380658",
   "metadata": {},
   "source": [
    "## 2.3. Operator Logika"
   ]
  },
  {
   "cell_type": "markdown",
   "id": "9794e639",
   "metadata": {},
   "source": [
    "<img src='.\\image\\operator_logika.png' alt='operator_logika.png' style='width:100%;'>"
   ]
  },
  {
   "cell_type": "markdown",
   "id": "40dd36c4-7c9d-4324-9b07-7f7a412688dd",
   "metadata": {},
   "source": [
    "<h1 style=\"text-align: center;\"> BAB 3 SELEKSI KONDISI </h1>"
   ]
  },
  {
   "cell_type": "markdown",
   "id": "1b1ed1e4-8632-4b9f-a7a6-8b5562f9fc73",
   "metadata": {},
   "source": [
    "Seleksi kondisi merupakan suatu pernyataan pengambilan keputusan, dimana statement atau block code akan dieksekusi jika suatu kondisi terpenuhi. Jika tidak, maka program akan mengeksekusi statement atau block code yang lain sesuai dengan kondisinya. "
   ]
  },
  {
   "cell_type": "markdown",
   "id": "e60ee82a-b25b-4c5a-95df-9a4332f749bb",
   "metadata": {},
   "source": [
    "## 3.1. If"
   ]
  },
  {
   "cell_type": "markdown",
   "id": "b4e77f7d-5862-4e61-a639-44dd32bf58e7",
   "metadata": {},
   "source": [
    "Pada seleksi kondisi if statement akan dieksekusi jika kondisi terpenuhi. Jika tidak maka, tidak ada statement yang dieksekusi. Statement if dideklarasikan dengan titik dua(:). "
   ]
  },
  {
   "cell_type": "code",
   "execution_count": 28,
   "id": "b71788a1-8a63-4793-98f4-5d51ff372b98",
   "metadata": {},
   "outputs": [
    {
     "name": "stdout",
     "output_type": "stream",
     "text": [
      "Statement yang dieksekusi jika kondisi terpenuhi\n",
      "lulus\n"
     ]
    }
   ],
   "source": [
    "kondisi = True\n",
    "if kondisi:\n",
    "    print(\"Statement yang dieksekusi jika kondisi terpenuhi\")\n",
    "    \n",
    "# Contoh kasus\n",
    "nilai = 80\n",
    "if nilai >= 80:\n",
    "    print(\"lulus\")"
   ]
  },
  {
   "cell_type": "markdown",
   "id": "bf2ee7c4-f0a9-4c7b-93ad-79ed3eaaac6a",
   "metadata": {},
   "source": [
    "## 3.2. If Else"
   ]
  },
  {
   "cell_type": "markdown",
   "id": "21fe4500-0605-4e9d-a540-64a0810e8c7e",
   "metadata": {},
   "source": [
    "Jika kita memiliki statement lain ketika kondisi dalam if tidak terpenuhi, maka kita bisa menggunakan statement else. Statement else hanya bisa digunakan jika terdapat statement if."
   ]
  },
  {
   "cell_type": "markdown",
   "id": "ae5b32e4-891e-4e50-97d7-d4960d76b283",
   "metadata": {},
   "source": [
    "![if_else.png](.\\image\\if_else.png)"
   ]
  },
  {
   "cell_type": "code",
   "execution_count": 29,
   "id": "f38facfc-0007-4f48-a5f1-e9af392547d5",
   "metadata": {},
   "outputs": [
    {
     "name": "stdout",
     "output_type": "stream",
     "text": [
      "Tidak Lulus\n"
     ]
    }
   ],
   "source": [
    "nilai = 80\n",
    "if nilai > 80:\n",
    "    print(\"Lulus\")\n",
    "else:\n",
    "    print(\"Tidak Lulus\")"
   ]
  },
  {
   "cell_type": "markdown",
   "id": "1b7858eb-608f-421d-8cd3-fb6f291a10a3",
   "metadata": {},
   "source": [
    "## 3.3. Elif"
   ]
  },
  {
   "cell_type": "markdown",
   "id": "64dd6e78-ea87-4ba7-b769-12222d89208b",
   "metadata": {},
   "source": [
    "Jika kita mempunyai kondisi lebih dari 1, maka dapat menggunakan statement elif. Elif bisa dianggap juga sebagai if bertingkat. Jika kondisi 1 tidak terpenuhi, sistem akan memeriksa kodisi selanjutnya, jika tidak ada yang terpenuhi, maka akan dikembalikan ke statement else. "
   ]
  },
  {
   "cell_type": "code",
   "execution_count": 30,
   "id": "9c6d2b79-9a07-46f7-9140-4f21e5478c00",
   "metadata": {},
   "outputs": [
    {
     "name": "stdout",
     "output_type": "stream",
     "text": [
      "Grade A\n"
     ]
    }
   ],
   "source": [
    "nilai = 90\n",
    "\n",
    "if 60 <= nilai < 70:\n",
    "    print(\"Grade C\")\n",
    "elif 70 <= nilai < 80:\n",
    "    print(\"Grade B\")\n",
    "elif 80 <= nilai <= 100:\n",
    "    print(\"Grade A\")\n",
    "else:\n",
    "    print(\"Tidak Lulus\")\n"
   ]
  },
  {
   "cell_type": "markdown",
   "id": "b9c8e391-7aab-4df9-b5d0-b9cfaf6484e2",
   "metadata": {},
   "source": [
    "## 3.4. Nested If Else"
   ]
  },
  {
   "cell_type": "markdown",
   "id": "9c03c13d-1e7d-4eb2-a3d2-e873f51278d3",
   "metadata": {},
   "source": [
    "Pada nested if else statement, kita memiliki kondisi lain yang hanya akan dieksekusi jika kondisi sebelumnya sudah terpenuhi. Sederhananya kita memiliki if statement di dalam if statement. "
   ]
  },
  {
   "cell_type": "markdown",
   "id": "285e2600-ba3e-449f-aed4-4e58050e591e",
   "metadata": {},
   "source": [
    "![nested_if_else.png](.\\image\\nested_if_else.png)"
   ]
  },
  {
   "cell_type": "code",
   "execution_count": 31,
   "id": "74f531f7-c2fa-440d-8a27-a8707b1f534e",
   "metadata": {},
   "outputs": [
    {
     "name": "stdout",
     "output_type": "stream",
     "text": [
      "kemungkinan kucing = 25%\n",
      "kemungkinan anjing = 25%\n",
      "kemungkinan buaya = 25%\n",
      "========== Kondisi Pertama ==========\n",
      "kemungkinan kucing = 75%\n",
      "kemungkinan anjing = 75%\n",
      "========== Kondisi Kedua ==========\n",
      "kemungkinan kucing = 100%\n"
     ]
    }
   ],
   "source": [
    "jumlah_kaki = 4\n",
    "suara = \"meong\"\n",
    "kategori = \"mamalia\"\n",
    "\n",
    "if jumlah_kaki == 4:\n",
    "    print(\"kemungkinan kucing = 25%\")\n",
    "    print(\"kemungkinan anjing = 25%\")\n",
    "    print(\"kemungkinan buaya = 25%\")\n",
    "    print(\"========== Kondisi Pertama ==========\")\n",
    "    \n",
    "    if kategori == \"mamalia\":\n",
    "        print(\"kemungkinan kucing = 75%\")\n",
    "        print(\"kemungkinan anjing = 75%\")\n",
    "        print(\"========== Kondisi Kedua ==========\")\n",
    "        \n",
    "        if suara == \"meong\":\n",
    "            print(\"kemungkinan kucing = 100%\")"
   ]
  },
  {
   "cell_type": "markdown",
   "id": "27297159-5169-46d0-9134-aa7b55dcf875",
   "metadata": {},
   "source": [
    "<h1 style=\"text-align: center;\"> BAB 4 PERULANGAN (LOOPING) </h1>"
   ]
  },
  {
   "cell_type": "markdown",
   "id": "af65f453-c8e4-4073-bec2-8dcbe76a90dc",
   "metadata": {},
   "source": [
    "Sama seperti bahasa pemrograman yang lain, bahasa pemrograman Python juga memiliki sebuah fungsi perulangan yang biasa disebut Loop/Looping. Loop adalah sebuah modul dari bahasa pemrograman yang berfungsi untuk melakukan sebuah proses perulangan dalam program, misalnya dalam program terdapat perintah untuk menampilkan tulisan Hello World sebanyak 1000 kali, jika tanpa menggunakan fungsi Looping, maka perlu menuliskan perintah print(Hello World) sebanyak 1000 kali. Sedangkan dengan menggunakan fungsi Looping, untuk melakukan perintah tersebut hanya diperlukan beberapa baris. Kode looping di dalam bahasa pemrograman Python dibagi berdasarkan 2 jenis yaitu For Loop dan While Loop."
   ]
  },
  {
   "cell_type": "markdown",
   "id": "5647e0b0-30b2-46b7-9c6e-f1e1139dd6cf",
   "metadata": {},
   "source": [
    "## 4.1. For Loop"
   ]
  },
  {
   "cell_type": "markdown",
   "id": "29897948-f29a-4667-a434-6d717c64dd05",
   "metadata": {},
   "source": [
    "For Loop adalah sebuah metode perulangan di Python yang mana digunakan apabila sudah diketahui atau telah ditentukan berapa banyaknya perulangan yang akan dijalankan. For Loop dituliskan dengan sintaks for, kemudian diikuti dengan nama variabel yang akan dilooping dan seberapa banyak perulangan yang diinginkan."
   ]
  },
  {
   "cell_type": "code",
   "execution_count": 32,
   "id": "5eada8f1-4feb-48ac-9c2c-fd7ef0bc2523",
   "metadata": {},
   "outputs": [
    {
     "name": "stdout",
     "output_type": "stream",
     "text": [
      "angka ke 0\n",
      "angka ke 1\n",
      "angka ke 2\n",
      "angka ke 3\n",
      "angka ke 4\n",
      "angka ke 5\n",
      "angka ke 6\n",
      "angka ke 7\n",
      "angka ke 8\n",
      "angka ke 9\n"
     ]
    }
   ],
   "source": [
    "for i in range(0, 10):\n",
    "    print(f\"angka ke {str(i)}\")"
   ]
  },
  {
   "cell_type": "markdown",
   "id": "57ab134c-79bd-4d25-bf79-f84a592c1333",
   "metadata": {},
   "source": [
    "Penulisan statement atau block code dalam perulangan harus memiliki indentasi yang menandakan bahwa statement tersebut merupakan bagian dari for loop. Kode diatas merupakan perintah looping for loop dengan menggunakan variabel yang diberi nama i, dimana variabel i tersebut akan bertambah nilainya sesuai dengan iterasi pada perulangan. For loop dilakukan sebanyak 10 iterasi, mulai dari iterasi ke-0 sampai dengan iterasi ke-9. Statement dalam for loop diberi indentasi sehingga menjorok ke arah kanan yang merupakan perintah untuk menampilkan angka sesuai iterasi. "
   ]
  },
  {
   "cell_type": "code",
   "execution_count": 33,
   "id": "ea0d0b01-c4e0-45a4-811d-0d2354bdba74",
   "metadata": {},
   "outputs": [
    {
     "name": "stdout",
     "output_type": "stream",
     "text": [
      "mobil\n",
      "motor\n",
      "kereta\n"
     ]
    }
   ],
   "source": [
    "array = [\"mobil\", \"motor\", \"kereta\"]\n",
    "\n",
    "for i in array:\n",
    "    print(i)"
   ]
  },
  {
   "cell_type": "markdown",
   "id": "5dd94136-ccf7-468f-b010-5d6546559c37",
   "metadata": {},
   "source": [
    "## 4.2. While Loop"
   ]
  },
  {
   "cell_type": "markdown",
   "id": "735e6f59-270e-4fd8-a972-a8f6a57b186b",
   "metadata": {},
   "source": [
    "While loop adalah sebuah metode perulangan yang digunakan apabila belum diketahui seberapa banyak looping tersebut akan dilakukan. Untuk menghentikan perulangan pada while loop, digunakan suatu kondisi tertentu. While loop dituliskan dengan sintaks while kemudian diikuti dengan suatu kondisi tertentu, dimana jika selama kondisi tersebut masih terpenuhi maka proses perulangan terus dilakukan. "
   ]
  },
  {
   "cell_type": "code",
   "execution_count": 34,
   "id": "5803b2b1-5495-43f9-9260-48761e2bfbad",
   "metadata": {},
   "outputs": [
    {
     "name": "stdout",
     "output_type": "stream",
     "text": [
      "1\n",
      "2\n",
      "3\n",
      "4\n",
      "5\n",
      "6\n",
      "7\n",
      "8\n",
      "9\n"
     ]
    }
   ],
   "source": [
    "i = 1\n",
    "while i < 10:\n",
    "    print(i)\n",
    "    i += 1"
   ]
  },
  {
   "cell_type": "markdown",
   "id": "2b9136f8-3ccf-46e8-8040-02a0597b0dae",
   "metadata": {},
   "source": [
    "Kode diatas merupakan perintah looping dengan while loop menggunakan variabel yang diberi nama i sebagai kondisinya, dimana jika variabel i kurang dari 10, maka proses looping akan terus dijalankan. Statement atau block code dalam while loop juga harus memiliki indentasi untuk menandakan bahwa statement tersebut meupakan bagian dari while loop."
   ]
  },
  {
   "cell_type": "markdown",
   "id": "94ff3506-313b-4167-8667-15091f6c88aa",
   "metadata": {},
   "source": [
    "<h1 style=\"text-align: center;\"> BAB 5 FUNGSI (FUNCTION) </h1>"
   ]
  },
  {
   "cell_type": "markdown",
   "id": "89d2edf5-1ccc-4bf6-98cb-209a973f5923",
   "metadata": {},
   "source": [
    "Fungsi (function) adalah sebuah modul bawaan yang berfungsi untuk menampung beberapa block code yang akan dijakankan ketika function tersebut dipanggil. Untuk memanggil sebuah function hanya perlu menuliskan nama dari fungsi tersebut dan diikuti dengan tanda kurung (). Apabila pada fungsi terdapat argumen dapat ditambahkan di dalam kurung. Fungsi pada python didefinisikan dengan perintah def kemudian diikuti dengan nama fungsi tersebut, argument pada fungsi jika diperlukan dituliskan di dalam kurung dan titik dua (:) untuk memulai statement atau block code. "
   ]
  },
  {
   "cell_type": "code",
   "execution_count": 35,
   "id": "7060490c-d9d4-499b-8747-c30925f8ab4c",
   "metadata": {},
   "outputs": [
    {
     "name": "stdout",
     "output_type": "stream",
     "text": [
      "Hello World\n"
     ]
    }
   ],
   "source": [
    "def halaman_utama():\n",
    "    print(\"Hello World\")\n",
    "    \n",
    "halaman_utama()"
   ]
  },
  {
   "cell_type": "markdown",
   "id": "919e1b4b-7a5e-4079-847f-95c797a0f001",
   "metadata": {},
   "source": [
    "Gambar diatas merupakan contoh dasar dari pembuatan fungsi di python. Pertama didefinisikan fungsi dengan sintaks def kemudian diikuti nama dari fungsi yang dibuat, yaitu halaman_utama. Pada contoh tersebut tidak terdapat argument yang dibutuhkan. Statement atau block code dalam fungsi harus memiliki indentasi untuk menandakan bahwa statement tersebut merupakan bagian dari fungsi. Pada contoh diatas bertujuan untuk mencetak \"hello World\" ketika fungsi tersebut dipanggil."
   ]
  },
  {
   "cell_type": "markdown",
   "id": "5088ac8a-4ba6-4e87-930e-4a15bf709879",
   "metadata": {},
   "source": [
    "## 5.1. Argument in Function"
   ]
  },
  {
   "cell_type": "markdown",
   "id": "8e34248e-7f03-4441-94f7-165b986fdcbc",
   "metadata": {},
   "source": [
    "Untuk membuat function dengan argument, perlu menambahkan argument tersebut di dalam kurung. Argument berfungsi untuk menerima sebuah nilai pada fungsi yang dibuat. "
   ]
  },
  {
   "cell_type": "code",
   "execution_count": 36,
   "id": "e549cd39-22bc-4e5a-8c97-d6d49272cfb1",
   "metadata": {},
   "outputs": [
    {
     "name": "stdout",
     "output_type": "stream",
     "text": [
      "30\n"
     ]
    }
   ],
   "source": [
    "def calculator_tambah(angka1, angka2):\n",
    "    hasil = angka1 + angka2\n",
    "    print(hasil)\n",
    "    \n",
    "calculator_tambah(10, 20)"
   ]
  },
  {
   "cell_type": "markdown",
   "id": "6fa96bc6-b4bc-4bac-b1a5-8add32702423",
   "metadata": {},
   "source": [
    "Kode diatas merupakan contoh fungsi dengan 2 argument, yaitu argument dengan nama angka1 dan angka2, dimana kedua argument tersebut akan menyimpan nilai yang telah ditentukan ketika fungsi dipanggil. Fungsi tersebut bertujuan untuk melakukan operasi penjumlahan pada nilai yang disimpan di dalam kedua argument tersebut. Perlu diperhatikan jika fungsi dibuat dengan menggunakan argument maka saat fungsi dipanggil, harus disertakan juga dengan argument-nya, karena jika tidak maka program akan menghasilkan error karena fungsi meminta argument-nya. "
   ]
  },
  {
   "cell_type": "markdown",
   "id": "54593115-66ed-418b-80ab-7a5d95154da9",
   "metadata": {},
   "source": [
    "## 5.2. Return Value in Function "
   ]
  },
  {
   "cell_type": "markdown",
   "id": "c69632ee-b757-46d7-bfa4-f1c53f334dde",
   "metadata": {},
   "source": [
    "Return adalah sebuah fungsi yang ada di dalam fungsi yang berguna untuk mengembalikan suatu nilai tertentu. Return value dideklarasikan dengan sintaks \"return\" lalu diikuti dengan nilai yang mau dikembalikan. Return value digunakan untuk mengembalikan nilai yang nantinya nilai tersebut dapat disimpan dalam variabel lain untuk dilakukan proses selanjutnya. "
   ]
  },
  {
   "cell_type": "code",
   "execution_count": 37,
   "id": "7fc0b254-78fe-4499-bc1c-9b6412721d9d",
   "metadata": {},
   "outputs": [
    {
     "name": "stdout",
     "output_type": "stream",
     "text": [
      "30\n"
     ]
    }
   ],
   "source": [
    "def calculator_tambah(angka1, angka2):\n",
    "    hasil = angka1 + angka2\n",
    "    return hasil\n",
    "\n",
    "nomor = calculator_tambah(10, 20)\n",
    "print(nomor)"
   ]
  },
  {
   "cell_type": "markdown",
   "id": "fac5ff7f-bfa5-4c30-996b-05320a4200eb",
   "metadata": {},
   "source": [
    "Kode diatas merupakan contoh fungsi menggunakan return, dimana return tersebut mengembalikan nilai dari hasil penjumlahan dua nilai yang disimpan dalam argumen angka1 dan angka2. "
   ]
  },
  {
   "cell_type": "markdown",
   "id": "ea5204ce-8958-48d7-b75f-3ba3ba82ce01",
   "metadata": {},
   "source": [
    "<h1 style=\"text-align: center;\"> BAB 6 MODUL (LIBRARY) </h1>"
   ]
  },
  {
   "cell_type": "markdown",
   "id": "8a9ecf50-2988-44ea-a5b3-6829270479e8",
   "metadata": {},
   "source": [
    "Library adalah kumpulan fungsi dan method yang bisa digunakan berulang kali pada beberapa program berbeda dengan cara melakukan \"import\" library tersebut pada baris code. Library memudahkan programmer untuk membuat sebuah program, karena dengan menggunakan library, programmer tidak perlu menuliskan kode tertentu dari awal, cukup dengan melakukan \"import\" suatu library jika memang dalam library tersebut terdapat program yang dibutuhkan. Pada python terdapat banyak library yang telah tersedia. Sebagai contoh, ketika membuat program untuk mengolah gambar, terdapat library yang telah tersedia seperti open CV, PIL dan lain-lain. Programmer hanya perlu meng-import library yang dperlukan dan beberapa fungsi telah tersedia. "
   ]
  },
  {
   "cell_type": "code",
   "execution_count": 38,
   "id": "289064f8-f638-4555-afaf-88bf13b6937a",
   "metadata": {},
   "outputs": [],
   "source": [
    "import numpy as np\n",
    "import glob\n",
    "import os\n",
    "import matplotlib.pyplot as plt"
   ]
  },
  {
   "cell_type": "markdown",
   "id": "f8de3d5a-c44a-44ba-b86b-c8b3c25fa121",
   "metadata": {},
   "source": [
    "Meng-import library dilakukan dengan cara menuliskan sintaks \"import\" kemudian diikuti dengan nama library-nya. Nama library juga bisa dialiaskan dengan nama yang lebih singkat menggunakan sintaks \"as\" sehingga lebih memudahkan dalam membuat program menggunakan library tersebut. Penggunaan library menjadi hal yang penting dalam membuat program, khususnya dalam bahasa pemrograman python, karena pada python sendiri terdapat banyak sekali library open source yang memudahkan programmer untuk membuat sebuah program. "
   ]
  }
 ],
 "metadata": {
  "kernelspec": {
   "display_name": "Python 3 (ipykernel)",
   "language": "python",
   "name": "python3"
  },
  "language_info": {
   "codemirror_mode": {
    "name": "ipython",
    "version": 3
   },
   "file_extension": ".py",
   "mimetype": "text/x-python",
   "name": "python",
   "nbconvert_exporter": "python",
   "pygments_lexer": "ipython3",
   "version": "3.12.3"
  },
  "toc-autonumbering": false,
  "toc-showcode": false,
  "toc-showmarkdowntxt": false
 },
 "nbformat": 4,
 "nbformat_minor": 5
}
