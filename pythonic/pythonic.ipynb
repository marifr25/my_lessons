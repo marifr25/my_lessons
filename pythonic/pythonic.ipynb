{
 "cells": [
  {
   "cell_type": "markdown",
   "id": "1493ac1d-c9ee-4328-8179-3bc88be82e2a",
   "metadata": {},
   "source": [
    "# #01: MENUKAR NILAI ANTAR VARIABEL | SWAPPING VALUES"
   ]
  },
  {
   "cell_type": "markdown",
   "id": "dc79dac9-c6b7-4244-9532-f09835b3720c",
   "metadata": {},
   "source": [
    "## Conventional Way"
   ]
  },
  {
   "cell_type": "code",
   "execution_count": 1,
   "id": "37628fa7-0018-49e0-b056-d99e54ee5e09",
   "metadata": {},
   "outputs": [
    {
     "name": "stdout",
     "output_type": "stream",
     "text": [
      "sebelum pertukaran\n",
      "a=10 dan b=20\n",
      "setelah pertukaran\n",
      "a=20 dan b=10\n"
     ]
    }
   ],
   "source": [
    "a = 10\n",
    "b = 20\n",
    "print('sebelum pertukaran')\n",
    "print(f'a={a} dan b={b}')\n",
    "c = a\n",
    "a = b\n",
    "b = c\n",
    "print('setelah pertukaran')\n",
    "print(f'a={a} dan b={b}')"
   ]
  },
  {
   "cell_type": "markdown",
   "id": "d5da191a-93da-457c-9dc6-c8a5b7378479",
   "metadata": {},
   "source": [
    "## Pythonic Way"
   ]
  },
  {
   "cell_type": "code",
   "execution_count": 2,
   "id": "9fe62914-ab0e-4182-8a66-b04e14b0b822",
   "metadata": {},
   "outputs": [
    {
     "name": "stdout",
     "output_type": "stream",
     "text": [
      "sebelum pertukaran\n",
      "x=10 dan y=20\n",
      "setelah pertukaran\n",
      "x=20 dan y=10\n"
     ]
    }
   ],
   "source": [
    "x = 10\n",
    "y = 20\n",
    "print('sebelum pertukaran')\n",
    "print(f'x={x} dan y={y}')\n",
    "x, y = y, x\n",
    "print('setelah pertukaran')\n",
    "print(f'x={x} dan y={y}')"
   ]
  },
  {
   "cell_type": "markdown",
   "id": "4669601e-26c3-440a-9d2b-4f540578002f",
   "metadata": {},
   "source": [
    "# #02: PERBANDINGAN BERANTAI | CHAINED COMPARISON"
   ]
  },
  {
   "cell_type": "markdown",
   "id": "fa3faba4-5955-42bb-b086-f9b80ce04241",
   "metadata": {},
   "source": [
    "## Conventional Way"
   ]
  },
  {
   "cell_type": "code",
   "execution_count": 3,
   "id": "6c66b2ed-edf6-4f61-a4b1-589748c7671e",
   "metadata": {},
   "outputs": [
    {
     "name": "stdout",
     "output_type": "stream",
     "text": [
      "True\n"
     ]
    }
   ],
   "source": [
    "a = 25\n",
    "print(a >= 20 and a <= 30)"
   ]
  },
  {
   "cell_type": "markdown",
   "id": "9d000484-c3f6-4e11-bf8b-e7bbcec73520",
   "metadata": {},
   "source": [
    "## Pythonic Way"
   ]
  },
  {
   "cell_type": "code",
   "execution_count": 4,
   "id": "11169fba-0065-4114-876f-7ecc7113a5b9",
   "metadata": {},
   "outputs": [
    {
     "name": "stdout",
     "output_type": "stream",
     "text": [
      "True\n"
     ]
    }
   ],
   "source": [
    "x = 25\n",
    "print(20 <= x <= 30)"
   ]
  },
  {
   "cell_type": "markdown",
   "id": "788dbbb7-026b-4231-bc2a-378dfd688767",
   "metadata": {},
   "source": [
    "# #03: PACKING"
   ]
  },
  {
   "cell_type": "markdown",
   "id": "64953731-0e25-4c81-b8d4-518a9ea0a101",
   "metadata": {},
   "source": [
    "## Conventional Way"
   ]
  },
  {
   "cell_type": "code",
   "execution_count": 5,
   "id": "33bb6ef3-f2c9-476d-bf7f-50f7bd950e27",
   "metadata": {},
   "outputs": [
    {
     "name": "stdout",
     "output_type": "stream",
     "text": [
      "a=10, b=20, c=30\n",
      "d=[10, 20, 30]\n"
     ]
    }
   ],
   "source": [
    "a = 10\n",
    "b = 20\n",
    "c = 30\n",
    "d = [None]*3\n",
    "d[0] = a\n",
    "d[1] = b\n",
    "d[2] = c\n",
    "print(f'a={a}, b={b}, c={c}')\n",
    "print(f'd={d}')"
   ]
  },
  {
   "cell_type": "markdown",
   "id": "82ceef37-24d1-4aed-9a92-00f80aeda6ee",
   "metadata": {},
   "source": [
    "## Pythonic Way"
   ]
  },
  {
   "cell_type": "code",
   "execution_count": 6,
   "id": "e40a753a-8261-4cf9-baa3-4daffbe3c5d3",
   "metadata": {},
   "outputs": [
    {
     "name": "stdout",
     "output_type": "stream",
     "text": [
      "x=10, y=20, z=30\n",
      "p=(10, 20, 30)\n",
      "p_list=[10, 20, 30]\n"
     ]
    }
   ],
   "source": [
    "x, y, z = 10, 20, 30\n",
    "p = x, y, z\n",
    "p_list = [x, y, z]\n",
    "print(f'x={x}, y={y}, z={z}')\n",
    "print(f'p={p}')\n",
    "print(f'p_list={p_list}')"
   ]
  },
  {
   "cell_type": "markdown",
   "id": "d083c4b1-4c51-4bf3-9821-122978d33225",
   "metadata": {},
   "source": [
    "# #04: UNPACKING"
   ]
  },
  {
   "cell_type": "markdown",
   "id": "46a0d7d6-97b7-4032-a36c-0c3ada979f42",
   "metadata": {},
   "source": [
    "## Conventional Way"
   ]
  },
  {
   "cell_type": "code",
   "execution_count": 7,
   "id": "cb90954c-8596-44ee-a270-4bddb3cf6c00",
   "metadata": {},
   "outputs": [
    {
     "name": "stdout",
     "output_type": "stream",
     "text": [
      "p=[10, 20, 30]\n",
      "a=10, b=20, c=30\n"
     ]
    }
   ],
   "source": [
    "p = [10, 20, 30]\n",
    "a = p[0]\n",
    "b = p[1]\n",
    "c = p[2]\n",
    "print(f'p={p}')\n",
    "print(f'a={a}, b={b}, c={c}')"
   ]
  },
  {
   "cell_type": "markdown",
   "id": "17c8b1b4-b045-4637-9de8-ba00c6666cf9",
   "metadata": {},
   "source": [
    "## Pythonic Way"
   ]
  },
  {
   "cell_type": "code",
   "execution_count": 8,
   "id": "ddccaf82-cbd8-4aae-9806-3fc1022dd0af",
   "metadata": {},
   "outputs": [
    {
     "name": "stdout",
     "output_type": "stream",
     "text": [
      "p=[10, 20, 30]\n",
      "x=10, y=20, z=30\n"
     ]
    }
   ],
   "source": [
    "p = [10, 20, 30]\n",
    "x, y, z = p\n",
    "print(f'p={p}')\n",
    "print(f'x={x}, y={y}, z={z}')"
   ]
  },
  {
   "cell_type": "markdown",
   "id": "ea067a31-950f-4831-92fd-a13f63a17a8f",
   "metadata": {},
   "source": [
    "# #05: FOR LOOP"
   ]
  },
  {
   "cell_type": "markdown",
   "id": "e5b65b62-ca5e-4c99-afa3-aa2c0acda2b7",
   "metadata": {},
   "source": [
    "## Conventional Way"
   ]
  },
  {
   "cell_type": "code",
   "execution_count": 9,
   "id": "de94b4c3-3929-4e5b-96f1-585d8e490047",
   "metadata": {},
   "outputs": [
    {
     "name": "stdout",
     "output_type": "stream",
     "text": [
      "10\n",
      "20\n",
      "30\n"
     ]
    }
   ],
   "source": [
    "list_ku = [10, 20, 30]\n",
    "for i in range(len(list_ku)):\n",
    "    print(list_ku[i])"
   ]
  },
  {
   "cell_type": "markdown",
   "id": "d84116c6-bf60-4eb5-9d8f-0d49f18cb54d",
   "metadata": {},
   "source": [
    "## Pythonic Way"
   ]
  },
  {
   "cell_type": "code",
   "execution_count": 10,
   "id": "4c994fed-f74d-40d7-b66a-3fa8d6f72ac1",
   "metadata": {},
   "outputs": [
    {
     "name": "stdout",
     "output_type": "stream",
     "text": [
      "10\n",
      "20\n",
      "30\n"
     ]
    }
   ],
   "source": [
    "list_ku = [10, 20, 30]\n",
    "for item in list_ku:\n",
    "    print(item)"
   ]
  },
  {
   "cell_type": "markdown",
   "id": "7dfd1e6e-3e9d-4811-bc61-0638640383ea",
   "metadata": {},
   "source": [
    "# #06: ENUMERATE"
   ]
  },
  {
   "cell_type": "markdown",
   "id": "5beeada8-226a-4188-8309-773a114d0df5",
   "metadata": {},
   "source": [
    "## Conventional Way"
   ]
  },
  {
   "cell_type": "code",
   "execution_count": 11,
   "id": "6baa537b-e096-4a13-b1f7-cbb5a0bba227",
   "metadata": {},
   "outputs": [
    {
     "name": "stdout",
     "output_type": "stream",
     "text": [
      "nim:001 -- nama:bejo\n",
      "nim:002 -- nama:karti\n",
      "nim:003 -- nama:tejo\n"
     ]
    }
   ],
   "source": [
    "nim = ['001', '002', '003']\n",
    "nama = ['bejo', 'karti', 'tejo']\n",
    "for i in range(len(nim)):\n",
    "    print(f'nim:{nim[i]} -- nama:{nama[i]}')"
   ]
  },
  {
   "cell_type": "markdown",
   "id": "c700f06c-aa15-4cac-90f2-8a8f5e28e05f",
   "metadata": {},
   "source": [
    "## Pythonic Way"
   ]
  },
  {
   "cell_type": "code",
   "execution_count": 12,
   "id": "7242400d-cbb2-4478-8a6f-2ac95d70803d",
   "metadata": {},
   "outputs": [
    {
     "name": "stdout",
     "output_type": "stream",
     "text": [
      "nim:001 -- nama:bejo\n",
      "nim:002 -- nama:karti\n",
      "nim:003 -- nama:tejo\n"
     ]
    }
   ],
   "source": [
    "nim = ['001', '002', '003']\n",
    "nama = ['bejo', 'karti', 'tejo']\n",
    "for i, x in enumerate(nim):\n",
    "    print(f'nim:{x} -- nama:{nama[i]}')"
   ]
  },
  {
   "cell_type": "markdown",
   "id": "1d679399-d6d9-4af1-8bc6-32bdac228e3a",
   "metadata": {},
   "source": [
    "# #07: ZIP"
   ]
  },
  {
   "cell_type": "markdown",
   "id": "3ce0dcc3-0cfa-4028-bc0c-7d421bd6c5dd",
   "metadata": {},
   "source": [
    "## Conventional Way"
   ]
  },
  {
   "cell_type": "code",
   "execution_count": 13,
   "id": "ed9026e1-ed0a-49fa-9c07-4686b25c1cdc",
   "metadata": {},
   "outputs": [
    {
     "name": "stdout",
     "output_type": "stream",
     "text": [
      "nim:001 -- nama:bejo\n",
      "nim:002 -- nama:ani\n",
      "nim:003 -- nama:tejo\n"
     ]
    }
   ],
   "source": [
    "nim = ['001', '002', '003']\n",
    "nama = ['bejo', 'ani', 'tejo']\n",
    "for i in range(len(nim)):\n",
    "    print(f'nim:{nim[i]} -- nama:{nama[i]}')"
   ]
  },
  {
   "cell_type": "markdown",
   "id": "1958afb3-c5ea-4317-9f7f-dcb9fb3f6591",
   "metadata": {},
   "source": [
    "## Pythonic Way"
   ]
  },
  {
   "cell_type": "code",
   "execution_count": 14,
   "id": "2fb52291-1019-4074-b9af-29adbdb07fbb",
   "metadata": {},
   "outputs": [
    {
     "name": "stdout",
     "output_type": "stream",
     "text": [
      "nim:001 -- nama:bejo\n",
      "nim:002 -- nama:ani\n",
      "nim:003 -- nama:tejo\n"
     ]
    }
   ],
   "source": [
    "nim = ['001', '002', '003']\n",
    "nama = ['bejo', 'ani', 'tejo']\n",
    "for x, y in zip(nim, nama):\n",
    "    print(f'nim:{x} -- nama:{y}')"
   ]
  },
  {
   "cell_type": "markdown",
   "id": "39ed2144-9da5-43ba-9514-0244cc8be963",
   "metadata": {},
   "source": [
    "# #08: MAP"
   ]
  },
  {
   "cell_type": "code",
   "execution_count": 15,
   "id": "e9630917-863a-4069-bf73-3d3e1ec1d470",
   "metadata": {},
   "outputs": [],
   "source": [
    "def lipat_ganda(x):\n",
    "    return x*2"
   ]
  },
  {
   "cell_type": "markdown",
   "id": "6664543b-17f2-4da3-88bd-00c3ede06769",
   "metadata": {},
   "source": [
    "## Conventional Way"
   ]
  },
  {
   "cell_type": "code",
   "execution_count": 16,
   "id": "6fd494bf-6d8c-4474-aa20-cee0ed4349d6",
   "metadata": {},
   "outputs": [
    {
     "name": "stdout",
     "output_type": "stream",
     "text": [
      "listku=[10, 20, 30]\n",
      "listmu=[20, 40, 60]\n"
     ]
    }
   ],
   "source": [
    "listku = [10, 20, 30]\n",
    "listmu = []\n",
    "for item in listku:\n",
    "    listmu.append(lipat_ganda(item))\n",
    "\n",
    "print(f'listku={listku}')\n",
    "print(f'listmu={listmu}')"
   ]
  },
  {
   "cell_type": "markdown",
   "id": "e4a03925-9375-4952-803b-6d6db926d7ba",
   "metadata": {},
   "source": [
    "## Pythonic Way"
   ]
  },
  {
   "cell_type": "code",
   "execution_count": 17,
   "id": "317971f4-9170-40b3-b664-7a189bbe7df0",
   "metadata": {},
   "outputs": [
    {
     "name": "stdout",
     "output_type": "stream",
     "text": [
      "listku=[10, 20, 30]\n",
      "listmu=[20, 40, 60]\n"
     ]
    }
   ],
   "source": [
    "listku = [10, 20, 30]\n",
    "listmu = list(map(lipat_ganda, listku))\n",
    "print(f'listku={listku}')\n",
    "print(f'listmu={listmu}')\n"
   ]
  },
  {
   "cell_type": "markdown",
   "id": "b90e9a1b-4ccc-4462-8cb9-f7b9ad338cad",
   "metadata": {},
   "source": [
    "# #09: LAMBDA EXPRESSION"
   ]
  },
  {
   "cell_type": "markdown",
   "id": "555f28c1-0b00-47cf-9840-ed949b36e721",
   "metadata": {},
   "source": [
    "## Conventional Way"
   ]
  },
  {
   "cell_type": "code",
   "execution_count": 18,
   "id": "6cac849d-5f3c-464c-8068-0c5748bae12d",
   "metadata": {},
   "outputs": [
    {
     "name": "stdout",
     "output_type": "stream",
     "text": [
      "listku=[10, 20, 30]\n",
      "listmu=[20, 40, 60]\n"
     ]
    }
   ],
   "source": [
    "def lipat_ganda(x):\n",
    "    return x*2\n",
    "\n",
    "listku = [10, 20, 30]\n",
    "listmu = list(map(lipat_ganda, listku))\n",
    "print(f'listku={listku}')\n",
    "print(f'listmu={listmu}')\n"
   ]
  },
  {
   "cell_type": "markdown",
   "id": "1a6928cf-40da-4fa2-be12-a3f87c7dcbf4",
   "metadata": {},
   "source": [
    "## Pythonic Way"
   ]
  },
  {
   "cell_type": "code",
   "execution_count": 19,
   "id": "11d26de6-4396-489c-837f-a3a2d888af3d",
   "metadata": {},
   "outputs": [
    {
     "name": "stdout",
     "output_type": "stream",
     "text": [
      "listku=[10, 20, 30]\n",
      "listmu=[20, 40, 60]\n"
     ]
    }
   ],
   "source": [
    "listku = [10, 20, 30]\n",
    "listmu = list(map(lambda x: x*2, listku))\n",
    "print(f'listku={listku}')\n",
    "print(f'listmu={listmu}')"
   ]
  },
  {
   "cell_type": "markdown",
   "id": "6ccea460-69de-44cf-9d9c-932a33ee173a",
   "metadata": {},
   "source": [
    "# #10: LIST COMPREHENSION"
   ]
  },
  {
   "cell_type": "markdown",
   "id": "a5cb06d2-27f6-4b55-8ba7-da361443a7c2",
   "metadata": {},
   "source": [
    "## Conventional Way"
   ]
  },
  {
   "cell_type": "code",
   "execution_count": 20,
   "id": "a0713955-6977-45ff-9789-e72b213de613",
   "metadata": {},
   "outputs": [
    {
     "name": "stdout",
     "output_type": "stream",
     "text": [
      "listku=[1, 2, 3, 4, 5, 6, 7, 8, 9, 10, 11, 12, 13, 14, 15, 16, 17, 18, 19, 20, 21, 22, 23, 24, 25, 26, 27, 28, 29, 30, 31, 32, 33, 34, 35, 36, 37, 38, 39, 40, 41, 42, 43, 44, 45, 46, 47, 48, 49, 50]\n"
     ]
    }
   ],
   "source": [
    "listku = []\n",
    "for i in range(50):\n",
    "    listku.append(i+1)\n",
    "print(f'listku={listku}')"
   ]
  },
  {
   "cell_type": "markdown",
   "id": "22d466a9-0c61-49d6-8a03-62f291453ca1",
   "metadata": {},
   "source": [
    "## Pythonic Way"
   ]
  },
  {
   "cell_type": "code",
   "execution_count": 21,
   "id": "4d2ecd56-7942-4e76-8398-cf814156beda",
   "metadata": {},
   "outputs": [
    {
     "name": "stdout",
     "output_type": "stream",
     "text": [
      "listku=[1, 2, 3, 4, 5, 6, 7, 8, 9, 10, 11, 12, 13, 14, 15, 16, 17, 18, 19, 20, 21, 22, 23, 24, 25, 26, 27, 28, 29, 30, 31, 32, 33, 34, 35, 36, 37, 38, 39, 40, 41, 42, 43, 44, 45, 46, 47, 48, 49, 50]\n"
     ]
    }
   ],
   "source": [
    "listku = [i+1 for i in range(50)]\n",
    "print(f'listku={listku}')\n"
   ]
  },
  {
   "cell_type": "markdown",
   "id": "5c2467b5-63f0-4cb0-82eb-cc972a6259c4",
   "metadata": {},
   "source": [
    "# #11: LIST COMPREHENSSION + CONDITIONAL IF"
   ]
  },
  {
   "cell_type": "markdown",
   "id": "bcd1943e-dd8a-43df-a259-5b882125defd",
   "metadata": {},
   "source": [
    "## Conventional Way "
   ]
  },
  {
   "cell_type": "code",
   "execution_count": 22,
   "id": "5a136a90-473f-4abf-a8f1-906b625a1a41",
   "metadata": {},
   "outputs": [
    {
     "name": "stdout",
     "output_type": "stream",
     "text": [
      "listku=[60, 55]\n"
     ]
    }
   ],
   "source": [
    "listmu = [30, 60, 10, 55]\n",
    "listku = []\n",
    "for nilai in listmu:\n",
    "    if nilai > 50:\n",
    "        listku.append(nilai)\n",
    "print(f'listku={listku}')"
   ]
  },
  {
   "cell_type": "markdown",
   "id": "36748ce3-4069-4fcc-bf62-819b0fe97966",
   "metadata": {},
   "source": [
    "## Pythonic Way"
   ]
  },
  {
   "cell_type": "code",
   "execution_count": 23,
   "id": "3ee54537-3e2a-4c60-8936-792db3f8f86b",
   "metadata": {},
   "outputs": [
    {
     "name": "stdout",
     "output_type": "stream",
     "text": [
      "listku=[60, 55]\n",
      "listku1=[None, 60, None, 55]\n"
     ]
    }
   ],
   "source": [
    "listmu = [30, 60, 10, 55]\n",
    "listku = [nilai for nilai in listmu if nilai > 50]\n",
    "listku1 = [nilai if nilai > 50 else None for nilai in listmu]\n",
    "print(f'listku={listku}')\n",
    "print(f'listku1={listku1}')\n"
   ]
  },
  {
   "cell_type": "markdown",
   "id": "0ad31fb5-4772-4f18-8cd7-32055422105e",
   "metadata": {},
   "source": [
    "# #12: LIST COMPREHENSION + ZIP"
   ]
  },
  {
   "cell_type": "markdown",
   "id": "a69ad573-7b44-4b1b-8bf1-a6ebfe98d5ae",
   "metadata": {},
   "source": [
    "## Conventional Way"
   ]
  },
  {
   "cell_type": "code",
   "execution_count": 24,
   "id": "b2f70b0d-3aa2-49e9-ad2d-34233e0b055c",
   "metadata": {},
   "outputs": [
    {
     "name": "stdout",
     "output_type": "stream",
     "text": [
      "listku=[['bejo', 23], ['karti', 31], ['tejo', 26]]\n"
     ]
    }
   ],
   "source": [
    "nama = ['bejo', 'karti', 'tejo']\n",
    "usia = [23, 31, 26]\n",
    "listku = []\n",
    "for i in range(len(nama)):\n",
    "    listku.append([nama[i], usia[i]])\n",
    "print(f'listku={listku}')"
   ]
  },
  {
   "cell_type": "markdown",
   "id": "6133bf1a-6882-4784-b7d5-0edab1712f27",
   "metadata": {},
   "source": [
    "## Pythonic Way"
   ]
  },
  {
   "cell_type": "code",
   "execution_count": 25,
   "id": "9cf6c6c8-625e-4a18-a856-d59e3effd2a2",
   "metadata": {},
   "outputs": [
    {
     "name": "stdout",
     "output_type": "stream",
     "text": [
      "listku=[['bejo', 23], ['karti', 31], ['tejo', 26]]\n"
     ]
    }
   ],
   "source": [
    "listku = [[d_nama, d_usia] for d_nama, d_usia in zip(nama, usia)]\n",
    "print(f'listku={listku}')\n"
   ]
  },
  {
   "cell_type": "markdown",
   "id": "bedc0c9f-ba9f-4035-9aa2-10f427e18434",
   "metadata": {},
   "source": [
    "# #13: MEMOTONG LIST DAN STRING (SLICING LIST AND STRING)"
   ]
  },
  {
   "cell_type": "markdown",
   "id": "c4ef1839-39dd-45ee-b8dc-3d63b3a3d4fa",
   "metadata": {},
   "source": [
    "## Conventional Way"
   ]
  },
  {
   "cell_type": "code",
   "execution_count": 26,
   "id": "5eda5379-0021-44b7-a9c3-40428cbd2d4b",
   "metadata": {},
   "outputs": [
    {
     "name": "stdout",
     "output_type": "stream",
     "text": [
      "listku=[30, 40, 50]\n"
     ]
    }
   ],
   "source": [
    "listmu = [10, 20, 30, 40, 50, 60]\n",
    "listku = []\n",
    "for i in range(2, 5):\n",
    "    listku.append(listmu[i])\n",
    "print(f'listku={listku}')"
   ]
  },
  {
   "cell_type": "markdown",
   "id": "ea622854-2ffc-4c28-a5a3-f8ea1550f7a6",
   "metadata": {},
   "source": [
    "## Pythonic Way"
   ]
  },
  {
   "cell_type": "code",
   "execution_count": 27,
   "id": "70584736-46fd-49d4-b34c-fcce7b052c50",
   "metadata": {},
   "outputs": [
    {
     "name": "stdout",
     "output_type": "stream",
     "text": [
      "listku=[30, 40, 50]\n",
      "listku=[50, 60]\n",
      "listku=[10, 20, 30]\n",
      "BELAJAR\n"
     ]
    }
   ],
   "source": [
    "listmu = [10, 20, 30, 40, 50, 60]\n",
    "listku = listmu[2:5]\n",
    "print(f'listku={listku}')\n",
    "\n",
    "listku = listmu[4:]\n",
    "print(f'listku={listku}')\n",
    "\n",
    "listku = listmu[:3]\n",
    "print(f'listku={listku}')\n",
    "\n",
    "kata = 'PEMBELAJARAN'\n",
    "print(kata[3:10])"
   ]
  },
  {
   "cell_type": "markdown",
   "id": "42c80135-9a50-449a-be56-8834e4cb4da0",
   "metadata": {},
   "source": [
    "# #14: MEMBALIKKAN URUTAN LIST DAN STRING (REVERSING A LIST AND STRING)"
   ]
  },
  {
   "cell_type": "markdown",
   "id": "9ed08b2b-ef48-4326-8822-e6485be69158",
   "metadata": {},
   "source": [
    "## Conventional Way"
   ]
  },
  {
   "cell_type": "code",
   "execution_count": 28,
   "id": "06146b80-b6cd-4b67-80e7-811ceeb420c5",
   "metadata": {},
   "outputs": [
    {
     "name": "stdout",
     "output_type": "stream",
     "text": [
      "listmu=[10, 20, 30, 40, 50, 60]\n",
      "listku=[60, 50, 40, 30, 20, 10]\n"
     ]
    }
   ],
   "source": [
    "listmu = [10, 20, 30, 40, 50, 60]\n",
    "listku = []\n",
    "for i in range(len(listmu)):\n",
    "    reverse_i = len(listmu) - 1 - i\n",
    "    listku.append(listmu[reverse_i])\n",
    "print(f'listmu={listmu}')\n",
    "print(f'listku={listku}')"
   ]
  },
  {
   "cell_type": "markdown",
   "id": "832597d8-b232-436d-99ec-23afeae122ad",
   "metadata": {},
   "source": [
    "## Pythonic Way"
   ]
  },
  {
   "cell_type": "code",
   "execution_count": 29,
   "id": "e239e89d-ba8e-4938-96d4-3ad073fb7f8c",
   "metadata": {},
   "outputs": [
    {
     "name": "stdout",
     "output_type": "stream",
     "text": [
      "listmu=[10, 20, 30, 40, 50, 60]\n",
      "listku=[60, 50, 40, 30, 20, 10]\n",
      "RAJALEB\n"
     ]
    }
   ],
   "source": [
    "listmu = [10, 20, 30, 40, 50, 60]\n",
    "listku = listmu[::-1]\n",
    "print(f'listmu={listmu}')\n",
    "print(f'listku={listku}')\n",
    "\n",
    "kata = 'BELAJAR'\n",
    "print(kata[::-1])"
   ]
  },
  {
   "cell_type": "markdown",
   "id": "ea9bc182-3f00-4e9d-821d-47eb18a2f6ae",
   "metadata": {},
   "source": [
    "# #15: MEMECAH SEKUMPULAN KATA DALAM KALIMAT KE DALAM LIST (SPLITTING A STRING)"
   ]
  },
  {
   "cell_type": "markdown",
   "id": "5a46e8c4-ae9b-4520-873d-5de4f4546d60",
   "metadata": {},
   "source": [
    "## Conventional Way"
   ]
  },
  {
   "cell_type": "code",
   "execution_count": 30,
   "id": "77639b8a-9fd9-432d-bee4-714f896397b0",
   "metadata": {},
   "outputs": [
    {
     "name": "stdout",
     "output_type": "stream",
     "text": [
      "teks: belajar python dasar\n",
      "listku: ['belajar', 'python', 'dasar']\n"
     ]
    }
   ],
   "source": [
    "teks = 'belajar python dasar'\n",
    "listku = []\n",
    "kata = ''\n",
    "for huruf in teks:\n",
    "    if huruf != ' ':\n",
    "        kata += huruf\n",
    "    else:\n",
    "        listku.append(kata)\n",
    "        kata = ''\n",
    "listku.append(kata)\n",
    "print(f'teks: {teks}')\n",
    "print(f'listku: {listku}')"
   ]
  },
  {
   "cell_type": "markdown",
   "id": "2480a892-8782-4322-ba29-fe09c60a567d",
   "metadata": {},
   "source": [
    "## Pythonic Way"
   ]
  },
  {
   "cell_type": "code",
   "execution_count": 31,
   "id": "ba6f0e17-355a-43ec-b035-85997d7c2054",
   "metadata": {},
   "outputs": [
    {
     "name": "stdout",
     "output_type": "stream",
     "text": [
      "teks: belajar python dasar\n",
      "listku: ['belajar', 'python', 'dasar']\n"
     ]
    }
   ],
   "source": [
    "teks = 'belajar python dasar'\n",
    "listku = teks.split()\n",
    "print(f'teks: {teks}')\n",
    "print(f'listku: {listku}')"
   ]
  },
  {
   "cell_type": "code",
   "execution_count": 32,
   "id": "7af3cc13-0505-4332-878f-8feee64ad84a",
   "metadata": {},
   "outputs": [
    {
     "name": "stdout",
     "output_type": "stream",
     "text": [
      "teks: belajar:python:dasar\n",
      "listku: ['belajar', 'python', 'dasar']\n"
     ]
    }
   ],
   "source": [
    "teks = 'belajar:python:dasar'\n",
    "listku = teks.split(':')\n",
    "print(f'teks: {teks}')\n",
    "print(f'listku: {listku}')"
   ]
  },
  {
   "cell_type": "markdown",
   "id": "33cb5574-5c47-4e8b-94bb-f2a4383e30b8",
   "metadata": {},
   "source": [
    "# #16: MENGGABUNGKAN SEKUMPULAN KATA MENJADI KALIMAT (STRING CONCATINATION)"
   ]
  },
  {
   "cell_type": "markdown",
   "id": "929be693-1c00-419b-be1e-f90a461d9a70",
   "metadata": {},
   "source": [
    "## Conventional Way"
   ]
  },
  {
   "cell_type": "code",
   "execution_count": 33,
   "id": "2877f938-1c7c-4c01-b6b2-480abb4f5b18",
   "metadata": {},
   "outputs": [
    {
     "name": "stdout",
     "output_type": "stream",
     "text": [
      "listku: ['belajar', 'python', 'dasar']\n",
      "kalimat: belajar python dasar \n"
     ]
    }
   ],
   "source": [
    "listku = ['belajar', 'python', 'dasar']\n",
    "kalimat = ''\n",
    "for kata in listku:\n",
    "    kalimat += kata + ' '\n",
    "print(f'listku: {listku}')\n",
    "print(f'kalimat: {kalimat}')"
   ]
  },
  {
   "cell_type": "markdown",
   "id": "a4c602eb-e926-4d32-a174-878dcbbb3527",
   "metadata": {},
   "source": [
    "## Pythonic Way"
   ]
  },
  {
   "cell_type": "code",
   "execution_count": 34,
   "id": "0166dc5c-01fe-4305-be6f-7c8eb5ca8c77",
   "metadata": {},
   "outputs": [
    {
     "name": "stdout",
     "output_type": "stream",
     "text": [
      "listku: ['belajar', 'python', 'dasar']\n",
      "kalimat: belajar python dasar\n"
     ]
    }
   ],
   "source": [
    "listku = ['belajar', 'python', 'dasar']\n",
    "kalimat = ' '.join(listku)\n",
    "print(f'listku: {listku}')\n",
    "print(f'kalimat: {kalimat}')"
   ]
  },
  {
   "cell_type": "markdown",
   "id": "1515603e-67c7-4091-a403-00d41eee3441",
   "metadata": {},
   "source": [
    "# #17: PEMANGGILAN FUNGSI BERANTAI (CHAINED FUNCTION CALL)"
   ]
  },
  {
   "cell_type": "code",
   "execution_count": 35,
   "id": "22fa6e4e-2e30-4134-916f-d5484fa088f6",
   "metadata": {},
   "outputs": [],
   "source": [
    "def tambah(a, b):\n",
    "    return a + b\n",
    "\n",
    "def kali(a, b):\n",
    "    return a * b\n",
    "\n",
    "x, y = 10, 20\n",
    "kondisi = True"
   ]
  },
  {
   "cell_type": "markdown",
   "id": "b3d05e04-6322-4106-a341-79002737bdb7",
   "metadata": {},
   "source": [
    "## Conventional Way "
   ]
  },
  {
   "cell_type": "code",
   "execution_count": 36,
   "id": "ae71cde3-a89e-477f-8113-74d78d8f26cb",
   "metadata": {},
   "outputs": [
    {
     "name": "stdout",
     "output_type": "stream",
     "text": [
      "hasil: 30\n"
     ]
    }
   ],
   "source": [
    "if kondisi:\n",
    "    hasil = tambah(x, y)\n",
    "else:\n",
    "    hasil = kali(x, y)\n",
    "print(f'hasil: {hasil}')"
   ]
  },
  {
   "cell_type": "markdown",
   "id": "36ca48cf-5552-4923-a479-18a4c4fb7ffa",
   "metadata": {},
   "source": [
    "## Pythonic Way"
   ]
  },
  {
   "cell_type": "code",
   "execution_count": 37,
   "id": "55944a6e-d4c1-4222-90e2-b93ccbe20852",
   "metadata": {},
   "outputs": [
    {
     "name": "stdout",
     "output_type": "stream",
     "text": [
      "hasil: 30\n"
     ]
    }
   ],
   "source": [
    "hasil = (tambah if kondisi else kali)(x, y)\n",
    "print(f'hasil: {hasil}')"
   ]
  },
  {
   "cell_type": "markdown",
   "id": "93212957-8569-47b5-a499-1746cf03c800",
   "metadata": {},
   "source": [
    "# #18: PERCABANGAN DENGAN DICTIONARY (SWITCH CASE)"
   ]
  },
  {
   "cell_type": "code",
   "execution_count": 38,
   "id": "7f9f7069-5c81-41d0-bb82-a5520b87fb8f",
   "metadata": {},
   "outputs": [],
   "source": [
    "def one():\n",
    "    print('satu-one')\n",
    "\n",
    "def two():\n",
    "    print('dua-two')\n",
    "\n",
    "def three():\n",
    "    print('tiga-three')\n",
    "\n",
    "case = 'dua'"
   ]
  },
  {
   "cell_type": "markdown",
   "id": "688c6f8a-5789-47dc-8f9a-e122f8091c77",
   "metadata": {},
   "source": [
    "## Conventional Way"
   ]
  },
  {
   "cell_type": "code",
   "execution_count": 39,
   "id": "e6701815-8c7a-4cc8-8e03-2d2e61273b03",
   "metadata": {},
   "outputs": [
    {
     "name": "stdout",
     "output_type": "stream",
     "text": [
      "dua-two\n"
     ]
    }
   ],
   "source": [
    "if case == 'satu':\n",
    "    one()\n",
    "elif case == 'dua':\n",
    "    two()\n",
    "elif case == 'tiga':\n",
    "    three()"
   ]
  },
  {
   "cell_type": "markdown",
   "id": "a30f4fd6-c6cf-4a9f-9792-edfe209c5baf",
   "metadata": {},
   "source": [
    "## Pythonic Way"
   ]
  },
  {
   "cell_type": "code",
   "execution_count": 40,
   "id": "2e2b0fa2-bbd3-44b1-8af4-b4d8656cc5a4",
   "metadata": {},
   "outputs": [
    {
     "name": "stdout",
     "output_type": "stream",
     "text": [
      "dua-two\n"
     ]
    }
   ],
   "source": [
    "switch = {'satu': one,\n",
    "          'dua': two,\n",
    "          'tiga': three}\n",
    "\n",
    "switch[case]()"
   ]
  },
  {
   "cell_type": "markdown",
   "id": "097b2f03-f06a-4a19-9042-154503afb019",
   "metadata": {},
   "source": [
    "# #19: PENGGABUNGAN LIST"
   ]
  },
  {
   "cell_type": "code",
   "execution_count": 41,
   "id": "f571922a-3971-4523-877f-635b54526065",
   "metadata": {},
   "outputs": [],
   "source": [
    "a = [10, 20, 30]\n",
    "b = [40, 50, 60]"
   ]
  },
  {
   "cell_type": "markdown",
   "id": "31f0119f-c018-43d3-9930-a4ad8f30ccf5",
   "metadata": {},
   "source": [
    "## Conventional Way"
   ]
  },
  {
   "cell_type": "code",
   "execution_count": 42,
   "id": "974cbbaa-b16b-4b7b-a550-3c531b1e6c86",
   "metadata": {},
   "outputs": [
    {
     "name": "stdout",
     "output_type": "stream",
     "text": [
      "[10, 20, 30, 40, 50, 60]\n"
     ]
    }
   ],
   "source": [
    "c = [None] * (len(a) + len(b))\n",
    "for i in range(len(a)):\n",
    "    c[i] = a[i]\n",
    "for i in range(len(b)):\n",
    "    c[i+len(a)] = b[i]\n",
    "print(c)"
   ]
  },
  {
   "cell_type": "markdown",
   "id": "c551288e-b268-42d7-aceb-dc240860055c",
   "metadata": {},
   "source": [
    "## Pythonic Way"
   ]
  },
  {
   "cell_type": "code",
   "execution_count": 43,
   "id": "39a03318-c442-4ab3-a1d3-d58f300d13eb",
   "metadata": {},
   "outputs": [
    {
     "name": "stdout",
     "output_type": "stream",
     "text": [
      "[10, 20, 30, 40, 50, 60]\n"
     ]
    }
   ],
   "source": [
    "c = a + b\n",
    "print(c)"
   ]
  },
  {
   "cell_type": "markdown",
   "id": "89f1fe32-9a29-4b83-97ba-fb7cdc692053",
   "metadata": {},
   "source": [
    "# #20: EKSPRESI TERNARY (TERNARY EXPRESSION)"
   ]
  },
  {
   "cell_type": "markdown",
   "id": "a71657f8-cdcf-45db-b113-7293e97a62f6",
   "metadata": {},
   "source": [
    "## Conventional Way"
   ]
  },
  {
   "cell_type": "code",
   "execution_count": 44,
   "id": "aad656d2-215c-416e-9833-04863db9dfd2",
   "metadata": {},
   "outputs": [
    {
     "name": "stdout",
     "output_type": "stream",
     "text": [
      "10 bernilai positif\n"
     ]
    }
   ],
   "source": [
    "a = 10\n",
    "if a < 0:\n",
    "    b = 'negatif'\n",
    "else:\n",
    "    b = 'positif'\n",
    "print(f'{a} bernilai {b}')"
   ]
  },
  {
   "cell_type": "markdown",
   "id": "c3b9babf-0da7-4a26-b2a6-551df186922a",
   "metadata": {},
   "source": [
    "## Pythonic Way"
   ]
  },
  {
   "cell_type": "code",
   "execution_count": 45,
   "id": "434bae8d-ed87-4f45-a6d3-e73a4250db3c",
   "metadata": {},
   "outputs": [
    {
     "name": "stdout",
     "output_type": "stream",
     "text": [
      "10 bernilai positif\n"
     ]
    }
   ],
   "source": [
    "a = 10\n",
    "b = 'negatif' if a < 0 else 'positif'\n",
    "print(f'{a} bernilai {b}')"
   ]
  },
  {
   "cell_type": "markdown",
   "id": "108d67e0-6256-4821-9b2a-880a415d450b",
   "metadata": {},
   "source": [
    "# #21: MENGABAIKAN NILAI DENGAN UNDERSCORE (DON'T CARE)"
   ]
  },
  {
   "cell_type": "markdown",
   "id": "274c7609-3a93-44ef-8a71-bb810b54ee35",
   "metadata": {},
   "source": [
    "## Conventional Way"
   ]
  },
  {
   "cell_type": "code",
   "execution_count": 46,
   "id": "8d55a010-6f5e-4b4b-a4cd-6a1b159b77be",
   "metadata": {},
   "outputs": [
    {
     "name": "stdout",
     "output_type": "stream",
     "text": [
      "hello world\n",
      "hello world\n",
      "hello world\n"
     ]
    }
   ],
   "source": [
    "for i in range(3):\n",
    "    print('hello world')"
   ]
  },
  {
   "cell_type": "markdown",
   "id": "4018b644-cc48-4000-af67-949ca5e262f8",
   "metadata": {},
   "source": [
    "## Pythonic Way"
   ]
  },
  {
   "cell_type": "code",
   "execution_count": 47,
   "id": "e9d70ad2-ee23-4757-a11a-fe1792b974cc",
   "metadata": {},
   "outputs": [
    {
     "name": "stdout",
     "output_type": "stream",
     "text": [
      "hello world\n",
      "hello world\n",
      "hello world\n"
     ]
    }
   ],
   "source": [
    "for _ in range(3):\n",
    "    print('hello world')"
   ]
  },
  {
   "cell_type": "code",
   "execution_count": 48,
   "id": "04ee2e21-6c6a-4ecb-88a9-c48d67b00b05",
   "metadata": {},
   "outputs": [
    {
     "name": "stdout",
     "output_type": "stream",
     "text": [
      "a:10, b:20\n"
     ]
    }
   ],
   "source": [
    "x = [10, 20, 30, 40]\n",
    "a, b, *_ = x\n",
    "print(f'a:{a}, b:{b}')"
   ]
  },
  {
   "cell_type": "code",
   "execution_count": 49,
   "id": "9ce34b3a-949e-4863-b5e0-f2d8cd0b8fdb",
   "metadata": {},
   "outputs": [
    {
     "name": "stdout",
     "output_type": "stream",
     "text": [
      "a:30, b:40\n"
     ]
    }
   ],
   "source": [
    "x = [10, 20, 30, 40]\n",
    "*_, a, b = x\n",
    "print(f'a:{a}, b:{b}')"
   ]
  },
  {
   "cell_type": "markdown",
   "id": "9db68ed6-9933-40a4-8050-5ad360a87ad2",
   "metadata": {},
   "source": [
    "# #22: MENGENAL OPERATOR IN UNTUK MEMERIKSA KEBERADAAN SUATU NILAI"
   ]
  },
  {
   "cell_type": "markdown",
   "id": "fff8db63-9fdf-455f-8f63-ae9165ef01c9",
   "metadata": {},
   "source": [
    "## Conventional Way"
   ]
  },
  {
   "cell_type": "code",
   "execution_count": 50,
   "id": "ba5d7f92-78bd-443c-a229-66005798595d",
   "metadata": {},
   "outputs": [
    {
     "name": "stdout",
     "output_type": "stream",
     "text": [
      "ditemukan\n"
     ]
    }
   ],
   "source": [
    "listku = [10, 20, 30, 40, 50]\n",
    "dicari = 30\n",
    "ketemu = False\n",
    "for x in listku:\n",
    "    if x == dicari:\n",
    "        ketemu = True\n",
    "        break\n",
    "if ketemu:\n",
    "    print('ditemukan')\n",
    "else:\n",
    "    print('tidak ditemukan')"
   ]
  },
  {
   "cell_type": "markdown",
   "id": "189975cb-d7c1-4231-b42e-72da181c95bb",
   "metadata": {},
   "source": [
    "## Pythonic Way"
   ]
  },
  {
   "cell_type": "code",
   "execution_count": 51,
   "id": "88a8f6e3-c5a0-429c-8beb-5039925bcf4b",
   "metadata": {},
   "outputs": [
    {
     "name": "stdout",
     "output_type": "stream",
     "text": [
      "ditemukan\n"
     ]
    }
   ],
   "source": [
    "if dicari in listku:\n",
    "    print('ditemukan')\n",
    "else:\n",
    "    print('tidak ditemukan')"
   ]
  },
  {
   "cell_type": "markdown",
   "id": "426bda8b-3867-40cd-91fc-d4d99775d6d2",
   "metadata": {},
   "source": [
    "# #23: MEMBUAT FUNGSI DENGAN MENGEMBALIKAN SEKUMPULAN NILAI (MULTIPLE RETURN VALUES)"
   ]
  },
  {
   "cell_type": "markdown",
   "id": "465cfcc7-e537-4eab-903e-6531c66f9848",
   "metadata": {},
   "source": [
    "## Conventional Way"
   ]
  },
  {
   "cell_type": "code",
   "execution_count": 52,
   "id": "ec8cd6aa-a0bc-42fc-9450-ccbdaeb0d51c",
   "metadata": {},
   "outputs": [
    {
     "name": "stdout",
     "output_type": "stream",
     "text": [
      "hasil: ('007', 'asep', 1.25)\n",
      "hasil1: 007\n",
      "hasil2: asep\n",
      "hasil3: 1.25\n"
     ]
    }
   ],
   "source": [
    "def fungsiku():\n",
    "    nim = '007'\n",
    "    nama = 'asep'\n",
    "    ipk = 1.25\n",
    "    siswa = (nim, nama, ipk)\n",
    "    return siswa\n",
    "\n",
    "hasil = fungsiku()\n",
    "print(f\"hasil: {hasil}\")\n",
    "print(f'hasil1: {hasil[0]}')\n",
    "print(f'hasil2: {hasil[1]}')\n",
    "print(f'hasil3: {hasil[2]}')"
   ]
  },
  {
   "cell_type": "markdown",
   "id": "ccca7dfc-fdfb-460b-823a-4765e06c7c57",
   "metadata": {},
   "source": [
    "## Pythonic Way"
   ]
  },
  {
   "cell_type": "code",
   "execution_count": 53,
   "id": "eda8a184-e85a-406b-9a96-8d2939b3db39",
   "metadata": {},
   "outputs": [
    {
     "name": "stdout",
     "output_type": "stream",
     "text": [
      "hasil: ('007', 'asep', 1.25)\n",
      "hasil1: 007\n",
      "hasil2: asep\n",
      "hasil2: 1.25\n"
     ]
    }
   ],
   "source": [
    "def fungsiku():\n",
    "    nim = '007'\n",
    "    nama = 'asep'\n",
    "    ipk = 1.25    \n",
    "    return nim, nama, ipk\n",
    "\n",
    "hasil = fungsiku()\n",
    "print(f\"hasil: {hasil}\")\n",
    "print(f'hasil1: {hasil[0]}')\n",
    "print(f'hasil2: {hasil[1]}')\n",
    "print(f'hasil2: {hasil[2]}')"
   ]
  },
  {
   "cell_type": "code",
   "execution_count": 54,
   "id": "5973f128-d627-4cc0-bb4c-fd0e7ff1da4b",
   "metadata": {},
   "outputs": [
    {
     "name": "stdout",
     "output_type": "stream",
     "text": [
      "hasil1: 007\n",
      "hasil2: asep\n",
      "hasil2: 1.25\n"
     ]
    }
   ],
   "source": [
    "a, b, c = fungsiku()\n",
    "print(f'hasil1: {a}')\n",
    "print(f'hasil2: {b}')\n",
    "print(f'hasil2: {c}')"
   ]
  },
  {
   "cell_type": "markdown",
   "id": "37e19758-fb16-45df-9348-7d67337ec632",
   "metadata": {},
   "source": [
    "# #24: ZIP UNTUK MENYATUKAN SEKUMPULAN LIST"
   ]
  },
  {
   "cell_type": "markdown",
   "id": "b8968bc3-455a-4fb6-aa89-53341c6bdfe4",
   "metadata": {},
   "source": [
    "## Conventional Way"
   ]
  },
  {
   "cell_type": "code",
   "execution_count": 55,
   "id": "78503d77-e69e-4556-ab85-de9c450130b2",
   "metadata": {},
   "outputs": [
    {
     "name": "stdout",
     "output_type": "stream",
     "text": [
      "siswa: [('001', 'bejo', 3.25), ('002', 'karti', 2.33), ('003', 'tejo', 1.88)]\n"
     ]
    }
   ],
   "source": [
    "nim = ['001', '002', '003']\n",
    "nama = ['bejo', 'karti', 'tejo']\n",
    "ipk = [3.25, 2.33, 1.88]\n",
    "siswa = []\n",
    "for i in range(len(nim)):\n",
    "    siswa.append((nim[i], nama[i], ipk[i]))\n",
    "print(f'siswa: {siswa}')"
   ]
  },
  {
   "cell_type": "markdown",
   "id": "51e54aef-1d6a-4226-a97f-2c295bf3ba75",
   "metadata": {},
   "source": [
    "## Pythonic Way"
   ]
  },
  {
   "cell_type": "code",
   "execution_count": 56,
   "id": "8f38c33c-bd6f-418f-829e-891269a0da48",
   "metadata": {},
   "outputs": [
    {
     "name": "stdout",
     "output_type": "stream",
     "text": [
      "siswa: [('001', 'bejo', 3.25), ('002', 'karti', 2.33), ('003', 'tejo', 1.88)]\n"
     ]
    }
   ],
   "source": [
    "nim = ['001', '002', '003']\n",
    "nama = ['bejo', 'karti', 'tejo']\n",
    "ipk = [3.25, 2.33, 1.88]\n",
    "siswa = list(zip(nim, nama, ipk))\n",
    "print(f'siswa: {siswa}')"
   ]
  },
  {
   "cell_type": "markdown",
   "id": "e85a38c3-a031-4a5d-a7ad-e9f009b68a70",
   "metadata": {},
   "source": [
    "# #25: FUNGSI UNZIP UNTUK MEMECAH SEKUMPULAN NILAI PADA LIST KE BEBERAPA VARIABEL"
   ]
  },
  {
   "cell_type": "markdown",
   "id": "5ac9a852-e120-4363-93e5-f3a97b73d865",
   "metadata": {},
   "source": [
    "## Conventional Way"
   ]
  },
  {
   "cell_type": "code",
   "execution_count": 57,
   "id": "bdf68305-8cb1-435c-91a4-037c0eaf905c",
   "metadata": {},
   "outputs": [
    {
     "name": "stdout",
     "output_type": "stream",
     "text": [
      "nim: ['001', '002', '003']\n",
      "nama: ['bejo', 'karti', 'tejo']\n",
      "ipk: [3.25, 2.33, 1.88]\n"
     ]
    }
   ],
   "source": [
    "siswa = [('001', 'bejo', 3.25),\n",
    "         ('002', 'karti', 2.33),\n",
    "         ('003', 'tejo', 1.88)]\n",
    "nim = []\n",
    "nama = []\n",
    "ipk = []\n",
    "for data in siswa:\n",
    "    nim.append(data[0])\n",
    "    nama.append(data[1])\n",
    "    ipk.append(data[2])\n",
    "print(f'nim: {nim}')\n",
    "print(f'nama: {nama}')\n",
    "print(f'ipk: {ipk}')"
   ]
  },
  {
   "cell_type": "markdown",
   "id": "8260c74d-06ba-4fac-9613-f04a65f9b50c",
   "metadata": {},
   "source": [
    "## Pythonic Way"
   ]
  },
  {
   "cell_type": "code",
   "execution_count": 58,
   "id": "b3c1b184-5027-4599-9383-f5d7ea3f1c19",
   "metadata": {},
   "outputs": [
    {
     "name": "stdout",
     "output_type": "stream",
     "text": [
      "nim: ('001', '002', '003')\n",
      "nama: ('bejo', 'karti', 'tejo')\n",
      "ipk: (3.25, 2.33, 1.88)\n"
     ]
    }
   ],
   "source": [
    "siswa = [('001', 'bejo', 3.25),\n",
    "         ('002', 'karti', 2.33),\n",
    "         ('003', 'tejo', 1.88)]\n",
    "nim, nama, ipk = zip(*siswa)\n",
    "print(f'nim: {nim}')\n",
    "print(f'nama: {nama}')\n",
    "print(f'ipk: {ipk}')\n"
   ]
  },
  {
   "cell_type": "markdown",
   "id": "77c36997-ad7b-42c7-aa5d-cd5c283a6149",
   "metadata": {},
   "source": [
    "# #26: MENGELOLA RESOURCES DENGAN CONTEXT MANAGER "
   ]
  },
  {
   "cell_type": "markdown",
   "id": "dd235a8c-7bdb-4e19-8f1c-e43ed56cbe7e",
   "metadata": {},
   "source": [
    "## Conventional Way"
   ]
  },
  {
   "cell_type": "code",
   "execution_count": 59,
   "id": "717e6c9d-21b0-4926-9fe3-64ffbd6d272f",
   "metadata": {},
   "outputs": [],
   "source": [
    "fileku = open('pesan.txt', 'w')\n",
    "fileku.write('Ayo Belajar Pythoic\\n')\n",
    "fileku.write('Di Channel Indonesia Belajar\\n')\n",
    "fileku.close()"
   ]
  },
  {
   "cell_type": "markdown",
   "id": "9cc0446e-9472-4d2a-92f2-28d7004bcb0e",
   "metadata": {},
   "source": [
    "## Pythonic Way"
   ]
  },
  {
   "cell_type": "code",
   "execution_count": 60,
   "id": "ffc78a74-8c65-46e9-8c74-99f22504aed6",
   "metadata": {},
   "outputs": [],
   "source": [
    "with open('pesan.txt', 'w') as fileku:\n",
    "    fileku.write('Semangat Belajar Pythoic\\n')\n",
    "    fileku.write('Dengan Channel Indonesia Belajar\\n')\n"
   ]
  },
  {
   "cell_type": "markdown",
   "id": "cb46b84f-9fad-4096-b1c8-5dbeb44f7b29",
   "metadata": {},
   "source": [
    "# #27: METHOD COUNT PADA LIST UNTUK MENGHITUNG JUMLAH KEMUNCULAN SUATU NILAI"
   ]
  },
  {
   "cell_type": "code",
   "execution_count": 61,
   "id": "164d2069-862d-4524-a217-2258d60167f7",
   "metadata": {},
   "outputs": [],
   "source": [
    "listku = [30, 20, 60, 40, 20, 10, 30, 20]\n",
    "hitung = 20\n",
    "jumlah = 0"
   ]
  },
  {
   "cell_type": "markdown",
   "id": "1cdc04b0-41a3-4460-9165-ba9a507168ce",
   "metadata": {},
   "source": [
    "## Conventional Way"
   ]
  },
  {
   "cell_type": "code",
   "execution_count": 62,
   "id": "1bb4c4f6-05f2-408e-a53a-44b4aa314037",
   "metadata": {},
   "outputs": [
    {
     "name": "stdout",
     "output_type": "stream",
     "text": [
      "Ditemukan 20 sejumlah 3 buah dalam [30, 20, 60, 40, 20, 10, 30, 20]\n"
     ]
    }
   ],
   "source": [
    "for item in listku:\n",
    "    if item == hitung:\n",
    "        jumlah += 1\n",
    "print(f'Ditemukan {hitung} sejumlah {jumlah} buah dalam {listku}')"
   ]
  },
  {
   "cell_type": "markdown",
   "id": "3719a7d3-6fa6-4630-8cf8-ce68131d3967",
   "metadata": {},
   "source": [
    "## Pythonic Way"
   ]
  },
  {
   "cell_type": "code",
   "execution_count": 63,
   "id": "4669b32e-c871-4466-a318-1e58957aa337",
   "metadata": {},
   "outputs": [
    {
     "name": "stdout",
     "output_type": "stream",
     "text": [
      "Ditemukan 20 sejumlah 3 buah dalam [30, 20, 60, 40, 20, 10, 30, 20]\n"
     ]
    }
   ],
   "source": [
    "jumlah = listku.count(hitung)\n",
    "print(f'Ditemukan {hitung} sejumlah {jumlah} buah dalam {listku}')"
   ]
  },
  {
   "cell_type": "markdown",
   "id": "65a53cbc-31bc-4dd3-ae51-d08b81b30fc0",
   "metadata": {},
   "source": [
    "# #28: FORMAT TEKS (STRING FORMATTING)"
   ]
  },
  {
   "cell_type": "markdown",
   "id": "65322bd6-49e7-49d4-8b96-2cd1a83f87a6",
   "metadata": {},
   "source": [
    "## Conventional Way"
   ]
  },
  {
   "cell_type": "code",
   "execution_count": 64,
   "id": "69a5a9b3-7cde-46b2-ac5a-c2f22b11d783",
   "metadata": {},
   "outputs": [
    {
     "name": "stdout",
     "output_type": "stream",
     "text": [
      "nama saya bejo usia saya 25 tahun \n",
      "nama saya bejo usia saya 25 tahun\n"
     ]
    }
   ],
   "source": [
    "nama = 'bejo'\n",
    "usia = 25\n",
    "print('nama saya ' + nama + ' usia saya ' + str(usia) + ' tahun ') # java\n",
    "print('nama saya %s usia saya %d tahun' % (nama, usia)) # C"
   ]
  },
  {
   "cell_type": "markdown",
   "id": "5f8e5438-d5d7-4db5-8dd5-36d1be89293f",
   "metadata": {},
   "source": [
    "## Pythonic Way"
   ]
  },
  {
   "cell_type": "code",
   "execution_count": 65,
   "id": "68519a28-9569-4a19-a48f-5da47af6ecb0",
   "metadata": {},
   "outputs": [
    {
     "name": "stdout",
     "output_type": "stream",
     "text": [
      "nama saya bejo usia saya 25 tahun\n",
      "nama saya bejo usia saya 25 tahun\n"
     ]
    }
   ],
   "source": [
    "nama = 'bejo'\n",
    "usia = 25\n",
    "print('nama saya {} usia saya {} tahun'.format(nama, usia))\n",
    "print('nama saya {1} usia saya {0} tahun'.format(usia, nama))"
   ]
  },
  {
   "cell_type": "code",
   "execution_count": 66,
   "id": "f6e8978b-d38d-4f79-bed0-50719b167247",
   "metadata": {},
   "outputs": [
    {
     "name": "stdout",
     "output_type": "stream",
     "text": [
      "nama:tejo usia:35\n"
     ]
    }
   ],
   "source": [
    "siswa = {'nim': '001',\n",
    "         'nama': 'tejo',\n",
    "         'usia': 35,\n",
    "         'ipk': 3.75}\n",
    "print('nama:{nama} usia:{usia}'.format(**siswa))"
   ]
  },
  {
   "cell_type": "code",
   "execution_count": 67,
   "id": "b26a53d2-0abf-440b-9da4-28457b752385",
   "metadata": {},
   "outputs": [
    {
     "name": "stdout",
     "output_type": "stream",
     "text": [
      "nama:bejo usia:25\n"
     ]
    }
   ],
   "source": [
    "nama = 'bejo'\n",
    "usia = 25\n",
    "print(f'nama:{nama} usia:{usia}')"
   ]
  },
  {
   "cell_type": "markdown",
   "id": "7f734532-3645-45a5-ac87-1ddca52c9cce",
   "metadata": {},
   "source": [
    "# #29: MENGGABUNGKAN DICTIONARY (MERGING DICTIONARIES)"
   ]
  },
  {
   "cell_type": "markdown",
   "id": "7a80d556-dc63-4261-b142-80982c2f60ee",
   "metadata": {},
   "source": [
    "## Conventional Way"
   ]
  },
  {
   "cell_type": "code",
   "execution_count": 68,
   "id": "ab6baccb-9126-4be0-b429-ea8356260de8",
   "metadata": {},
   "outputs": [
    {
     "name": "stdout",
     "output_type": "stream",
     "text": [
      "siswa: {'nim': '001', 'nama': 'bejo', 'ipk': 3.25, 'semester': 4}\n"
     ]
    }
   ],
   "source": [
    "data1 = {'nim': '001', 'nama': 'bejo'}\n",
    "data2 = {'ipk': 3.25, 'semester': 4}\n",
    "siswa = {}\n",
    "for kunci in data1:\n",
    "    siswa[kunci] = data1[kunci]\n",
    "for kunci in data2:\n",
    "    siswa[kunci] = data2[kunci]\n",
    "print(f'siswa: {siswa}')"
   ]
  },
  {
   "cell_type": "markdown",
   "id": "59471238-be14-498d-90eb-0e5529bdc996",
   "metadata": {},
   "source": [
    "## Pythonic Way"
   ]
  },
  {
   "cell_type": "code",
   "execution_count": 69,
   "id": "7416cb9f-4f78-486e-8ec4-6bd672fb7f60",
   "metadata": {},
   "outputs": [
    {
     "name": "stdout",
     "output_type": "stream",
     "text": [
      "siswa: {'nim': '001', 'nama': 'bejo', 'ipk': 3.25, 'semester': 4}\n"
     ]
    }
   ],
   "source": [
    "data1 = {'nim': '001', 'nama': 'bejo'}\n",
    "data2 = {'ipk': 3.25, 'semester': 4}\n",
    "siswa = {**data1, **data2}\n",
    "print(f'siswa: {siswa}')"
   ]
  },
  {
   "cell_type": "code",
   "execution_count": 70,
   "id": "9a8bf281-f21f-490d-88d8-cc49037b319b",
   "metadata": {},
   "outputs": [
    {
     "name": "stdout",
     "output_type": "stream",
     "text": [
      "siswa: {'nim': '001', 'nama': 'bejo', 'ipk': 3.25, 'semester': 4, 'kota': 'Palembang', 'hobi': 'mancing'}\n"
     ]
    }
   ],
   "source": [
    "data3 = {'kota': 'Palembang', 'hobi': 'mancing'}\n",
    "siswa = {**data1, **data2, **data3}\n",
    "print(f'siswa: {siswa}')"
   ]
  },
  {
   "cell_type": "markdown",
   "id": "fefcc6ec-9088-4026-9189-d1752b83ac16",
   "metadata": {},
   "source": [
    "# #30: MENGGANTIKAN OPERATOR OR DENGAN OPERATOR IN"
   ]
  },
  {
   "cell_type": "markdown",
   "id": "972e3914-a014-42e3-b706-c18fc2a0e747",
   "metadata": {},
   "source": [
    "## Conventional Way"
   ]
  },
  {
   "cell_type": "code",
   "execution_count": 71,
   "id": "1c4b59a3-315c-4867-8ce5-03d793e34ca7",
   "metadata": {},
   "outputs": [
    {
     "name": "stdout",
     "output_type": "stream",
     "text": [
      "Siswa teladan\n"
     ]
    }
   ],
   "source": [
    "nama = 'bejo'\n",
    "\n",
    "if nama == 'bejo' or nama == 'tejo' or nama == 'karti':\n",
    "    print('Siswa teladan')\n",
    "else:\n",
    "    print('Siswa reguler')"
   ]
  },
  {
   "cell_type": "markdown",
   "id": "ca802f1b-825a-4a31-8d40-428b5f6c47c7",
   "metadata": {},
   "source": [
    "## Pythonic Way"
   ]
  },
  {
   "cell_type": "code",
   "execution_count": 72,
   "id": "281e2235-cbaf-4c37-b684-a373761eaf25",
   "metadata": {},
   "outputs": [
    {
     "name": "stdout",
     "output_type": "stream",
     "text": [
      "Siswa teladan\n"
     ]
    }
   ],
   "source": [
    "nama = 'bejo'\n",
    "\n",
    "if nama in ('bejo', 'tejo', 'karti'):\n",
    "    print('Siswa teladan')\n",
    "else:\n",
    "    print('Siswa reguler')"
   ]
  },
  {
   "cell_type": "markdown",
   "id": "ff030fd7-1bea-4827-9482-bb3fcd884ace",
   "metadata": {},
   "source": [
    "# #31: ELSE PADA FOR LOOP"
   ]
  },
  {
   "cell_type": "code",
   "execution_count": 73,
   "id": "d9c110b9-f863-4b83-8d88-ed42f8a6a3be",
   "metadata": {},
   "outputs": [],
   "source": [
    "kecepatan = [60, 40, 80, 60, 90, 30, 110, 20]\n",
    "ambang_batas = 100"
   ]
  },
  {
   "cell_type": "markdown",
   "id": "10eeef48-8bdf-4056-86bb-f79d5dfd5d94",
   "metadata": {},
   "source": [
    "## Conventional Way"
   ]
  },
  {
   "cell_type": "code",
   "execution_count": 74,
   "id": "85be4ef0-9a8c-4ef2-ac24-a29cee0d88ab",
   "metadata": {},
   "outputs": [
    {
     "name": "stdout",
     "output_type": "stream",
     "text": [
      "kecepatan melampaui ambang batas\n"
     ]
    }
   ],
   "source": [
    "laju_normal = True\n",
    "for laju in kecepatan:\n",
    "    if laju > ambang_batas:\n",
    "        laju_normal = False\n",
    "        print('kecepatan melampaui ambang batas')\n",
    "        break\n",
    "if laju_normal:\n",
    "    print('laju kendaraan normal')"
   ]
  },
  {
   "cell_type": "markdown",
   "id": "1b4b7bf0-5f2f-4da6-a4f8-5489f92a21dc",
   "metadata": {},
   "source": [
    "## Pythonic Way"
   ]
  },
  {
   "cell_type": "code",
   "execution_count": 75,
   "id": "a0c773f5-7b43-48b1-af30-be0678d468eb",
   "metadata": {},
   "outputs": [
    {
     "name": "stdout",
     "output_type": "stream",
     "text": [
      "kecepatan melampaui ambang batas\n"
     ]
    }
   ],
   "source": [
    "for laju in kecepatan:\n",
    "    if laju > ambang_batas:\n",
    "        print('kecepatan melampaui ambang batas')\n",
    "        break\n",
    "else:\n",
    "    print('laju kendaraan normal')"
   ]
  },
  {
   "cell_type": "markdown",
   "id": "07e0784b-ec45-4924-843f-ba33b3678bbe",
   "metadata": {},
   "source": [
    "# #32: PENANDA POSISI DIGIT (DIGITAL PLACEHOLDER) DENGAN KARAKTER UNDERSCORE (_)"
   ]
  },
  {
   "cell_type": "markdown",
   "id": "8095dcf7-ac7e-4187-9886-ad1bf719ebbd",
   "metadata": {},
   "source": [
    "## Conventional Way"
   ]
  },
  {
   "cell_type": "code",
   "execution_count": 76,
   "id": "b687e415-8475-4c00-94d1-2805d4cbeb3a",
   "metadata": {},
   "outputs": [
    {
     "name": "stdout",
     "output_type": "stream",
     "text": [
      "gaji: 5000000\n"
     ]
    }
   ],
   "source": [
    "gaji = 5000000\n",
    "print(f'gaji: {gaji}')"
   ]
  },
  {
   "cell_type": "markdown",
   "id": "d50140be-df3a-4db9-b1a7-6dac29c91558",
   "metadata": {},
   "source": [
    "## Pythonic Way"
   ]
  },
  {
   "cell_type": "code",
   "execution_count": 77,
   "id": "bc826b6e-863b-453d-825f-c2b359fe106d",
   "metadata": {
    "tags": []
   },
   "outputs": [
    {
     "name": "stdout",
     "output_type": "stream",
     "text": [
      "gaji: 5000000\n"
     ]
    }
   ],
   "source": [
    "gaji = 5_000_000\n",
    "print(f'gaji: {gaji}')"
   ]
  },
  {
   "cell_type": "markdown",
   "id": "f5695551-7949-4a92-a90c-f56865281db9",
   "metadata": {},
   "source": [
    "# #33: TABEL TRANSLASI (TRANSLATION TABLE) UNTUK STRING UNTUK STRING MAPPING"
   ]
  },
  {
   "cell_type": "markdown",
   "id": "fa77f0c7-d20a-4ccf-8185-c1e6e87c2a30",
   "metadata": {},
   "source": [
    "## Conventional Way"
   ]
  },
  {
   "cell_type": "code",
   "execution_count": 78,
   "id": "af303e85-e24d-4ff9-8f86-7428e1b1008c",
   "metadata": {},
   "outputs": [
    {
     "name": "stdout",
     "output_type": "stream",
     "text": [
      "hasil konversi: k0t4 c1r3b0n\n"
     ]
    }
   ],
   "source": [
    "string_input = 'kota cirebon'\n",
    "translasi = {\n",
    "    'a': '4',\n",
    "    'i': '1',\n",
    "    'e': '3',\n",
    "    'o': '0'\n",
    "}\n",
    "string_output = ''\n",
    "for x in string_input:\n",
    "    val = translasi.get(x)\n",
    "    string_output += val if val else x\n",
    "print(f'hasil konversi: {string_output}')"
   ]
  },
  {
   "cell_type": "markdown",
   "id": "1f3edb83-f517-4fc6-84fd-f10592b602d9",
   "metadata": {},
   "source": [
    "## Pythonic Way"
   ]
  },
  {
   "cell_type": "code",
   "execution_count": 81,
   "id": "343ed677-ad35-4af0-8c79-9e2621ffd22b",
   "metadata": {},
   "outputs": [
    {
     "name": "stdout",
     "output_type": "stream",
     "text": [
      "hasil konversi: k0t4 c1r3b0n\n"
     ]
    }
   ],
   "source": [
    "sumber = 'aieo'\n",
    "tujuan = '4130'\n",
    "string_input = 'kota cirebon'\n",
    "\n",
    "tabel_translasi = str.maketrans(sumber, tujuan)\n",
    "string_output = string_input.translate(tabel_translasi)\n",
    "print(f'hasil konversi: {string_output}')"
   ]
  },
  {
   "cell_type": "markdown",
   "id": "4f59707f-1805-48c0-8d1a-fff65f652f22",
   "metadata": {},
   "source": [
    "# #34: PENGURUTAN DATA DENGAN METHOD SORT DAN FUNGSI SORTED"
   ]
  },
  {
   "cell_type": "markdown",
   "id": "bd378c27-167f-46dc-bbac-319e3bdd7f6b",
   "metadata": {},
   "source": [
    "## Conventional Way"
   ]
  },
  {
   "cell_type": "code",
   "execution_count": 87,
   "id": "e81f1f80-3db3-42c5-b6cb-3dcc688fa42a",
   "metadata": {},
   "outputs": [
    {
     "name": "stdout",
     "output_type": "stream",
     "text": [
      "siswa: ['karti susanti', 'tejo purnawan', 'bejo rahmadi']\n",
      "terurut: ['bejo rahmadi', 'karti susanti', 'tejo purnawan']\n"
     ]
    }
   ],
   "source": [
    "siswa = ['karti susanti', 'tejo purnawan', 'bejo rahmadi']\n",
    "print(f'siswa: {siswa}')\n",
    "siswa.sort()\n",
    "print(f'terurut: {siswa}')"
   ]
  },
  {
   "cell_type": "markdown",
   "id": "dc1881f1-ed7f-4888-a5d9-d0dfcee9aa27",
   "metadata": {},
   "source": [
    "Method sort hanya dapat digunakan pada tipe data yang bersifat mutable. Method sort digunakan untuk melakukan pengurutan data secara **inplace** dan tidak menghasilkan objek baru, karena proses pengurutan data terjadi di dalam list tersebut tanpa menghasilkan objek baru. Artinya proses pengurutan data dengan method sort hanya dapat ditemui pada tipe data yang bersifat mutable. Method sort tidak dapat digunakan pada tipe data yang bersifat immutable contohnya tuple. Berikut contoh method sort apabila digunakan pada tipe data tuple."
   ]
  },
  {
   "cell_type": "code",
   "execution_count": 86,
   "id": "75b793a4-0ed7-4897-9ac8-04fe81c5a36b",
   "metadata": {},
   "outputs": [
    {
     "ename": "AttributeError",
     "evalue": "'tuple' object has no attribute 'sort'",
     "output_type": "error",
     "traceback": [
      "\u001b[1;31m---------------------------------------------------------------------------\u001b[0m",
      "\u001b[1;31mAttributeError\u001b[0m                            Traceback (most recent call last)",
      "Cell \u001b[1;32mIn[86], line 2\u001b[0m\n\u001b[0;32m      1\u001b[0m siswa \u001b[38;5;241m=\u001b[39m (\u001b[38;5;124m'\u001b[39m\u001b[38;5;124mkarti susanti\u001b[39m\u001b[38;5;124m'\u001b[39m, \u001b[38;5;124m'\u001b[39m\u001b[38;5;124mtejo purnawan\u001b[39m\u001b[38;5;124m'\u001b[39m, \u001b[38;5;124m'\u001b[39m\u001b[38;5;124mbejo rahmadi\u001b[39m\u001b[38;5;124m'\u001b[39m)\n\u001b[1;32m----> 2\u001b[0m \u001b[43msiswa\u001b[49m\u001b[38;5;241;43m.\u001b[39;49m\u001b[43msort\u001b[49m()\n\u001b[0;32m      3\u001b[0m \u001b[38;5;28mprint\u001b[39m(\u001b[38;5;124mf\u001b[39m\u001b[38;5;124m'\u001b[39m\u001b[38;5;124mterurut: \u001b[39m\u001b[38;5;132;01m{\u001b[39;00msiswa\u001b[38;5;132;01m}\u001b[39;00m\u001b[38;5;124m'\u001b[39m)\n",
      "\u001b[1;31mAttributeError\u001b[0m: 'tuple' object has no attribute 'sort'"
     ]
    }
   ],
   "source": [
    "siswa = ('karti susanti', 'tejo purnawan', 'bejo rahmadi')\n",
    "siswa.sort()\n",
    "print(f'terurut: {siswa}')"
   ]
  },
  {
   "cell_type": "markdown",
   "id": "d944c7ec-c1b5-4fe2-bbcf-388705832046",
   "metadata": {},
   "source": [
    "## Pythonic Way"
   ]
  },
  {
   "cell_type": "code",
   "execution_count": 84,
   "id": "296e0ea7-cac1-43f3-bead-8062982a8386",
   "metadata": {},
   "outputs": [
    {
     "name": "stdout",
     "output_type": "stream",
     "text": [
      "siswa: ['karti susanti', 'tejo purnawan', 'bejo rahmadi']\n",
      "terurut: ['bejo rahmadi', 'karti susanti', 'tejo purnawan']\n"
     ]
    }
   ],
   "source": [
    "siswa = ['karti susanti', 'tejo purnawan', 'bejo rahmadi']\n",
    "terurut = sorted(siswa)\n",
    "print(f'siswa: {siswa}')\n",
    "print(f'terurut: {terurut}')"
   ]
  },
  {
   "cell_type": "code",
   "execution_count": 88,
   "id": "c5d37c1d-782d-4ef8-b653-bdf61b3176d7",
   "metadata": {},
   "outputs": [
    {
     "name": "stdout",
     "output_type": "stream",
     "text": [
      "siswa: ('karti susanti', 'tejo purnawan', 'bejo rahmadi')\n",
      "terurut: ['bejo rahmadi', 'karti susanti', 'tejo purnawan']\n"
     ]
    }
   ],
   "source": [
    "siswa = ('karti susanti', 'tejo purnawan', 'bejo rahmadi')\n",
    "terurut = sorted(siswa)\n",
    "print(f'siswa: {siswa}')\n",
    "print(f'terurut: {terurut}')"
   ]
  },
  {
   "cell_type": "markdown",
   "id": "f7daac58-ba57-4014-ab7a-9bc7c3cc8f85",
   "metadata": {},
   "source": [
    "# #35: PENGURUTAN DATA DENGAN CUSTOM KEY PADA FUNGSI SORTED"
   ]
  },
  {
   "cell_type": "markdown",
   "id": "cc1c7a42-ce59-4114-8548-050f3d0d5575",
   "metadata": {},
   "source": [
    "## Conventional Way"
   ]
  },
  {
   "cell_type": "code",
   "execution_count": 90,
   "id": "20cc2338-e4a9-4b6b-9394-e7ae46d5da21",
   "metadata": {},
   "outputs": [
    {
     "name": "stdout",
     "output_type": "stream",
     "text": [
      "siswa: ['karti susanti', 'tejo purnawan', 'bejo rahmadi']\n",
      "terurut: ['tejo purnawan', 'bejo rahmadi', 'karti susanti']\n"
     ]
    }
   ],
   "source": [
    "siswa = ['karti susanti', 'tejo purnawan', 'bejo rahmadi']\n",
    "print(f'siswa: {siswa}')\n",
    "for i in range(len(siswa)-1):\n",
    "    for j in range(i+1, len(siswa)):\n",
    "        if siswa[i].split()[-1] > siswa[j].split()[-1]:\n",
    "            siswa[i], siswa[j] = siswa[j], siswa[i]\n",
    "print(f'terurut: {siswa}')"
   ]
  },
  {
   "cell_type": "markdown",
   "id": "25367da7-ef74-4828-a9d5-cf9cdeee6fec",
   "metadata": {},
   "source": [
    "## Pythonic Way"
   ]
  },
  {
   "cell_type": "code",
   "execution_count": 94,
   "id": "f56f23a0-e6b0-44b6-b85d-2c8c62d9e064",
   "metadata": {},
   "outputs": [
    {
     "name": "stdout",
     "output_type": "stream",
     "text": [
      "siswa: ['karti susanti', 'tejo purnawan', 'bejo rahmadi']\n",
      "terurut: ['tejo purnawan', 'bejo rahmadi', 'karti susanti']\n"
     ]
    }
   ],
   "source": [
    "def custom_key(nama):\n",
    "    return nama.split()[-1]\n",
    "\n",
    "siswa = ['karti susanti', 'tejo purnawan', 'bejo rahmadi']\n",
    "terurut = sorted(siswa, key=custom_key)\n",
    "\n",
    "print(f'siswa: {siswa}')\n",
    "print(f'terurut: {terurut}')"
   ]
  },
  {
   "cell_type": "code",
   "execution_count": 95,
   "id": "1c67a6ea-9488-4b1d-8319-1def5d7ba741",
   "metadata": {},
   "outputs": [
    {
     "name": "stdout",
     "output_type": "stream",
     "text": [
      "terurut1: ['tejo purnawan', 'bejo rahmadi', 'karti susanti']\n"
     ]
    }
   ],
   "source": [
    "siswa = ['karti susanti', 'tejo purnawan', 'bejo rahmadi']\n",
    "terurut1 = sorted(siswa, key=lambda x: x.split()[-1])\n",
    "print(f'terurut1: {terurut1}')"
   ]
  },
  {
   "cell_type": "markdown",
   "id": "23b6d72f-4c8d-4603-877b-93eb214e211e",
   "metadata": {},
   "source": [
    "# #36: MULTIPLE ASIGNMENT UNTUK MERINGKAS INISIASI VARIABEL"
   ]
  },
  {
   "cell_type": "markdown",
   "id": "b5f86b42-9f82-4dd3-af0e-8f7854676c6c",
   "metadata": {},
   "source": [
    "## Conventional Way"
   ]
  },
  {
   "cell_type": "code",
   "execution_count": 96,
   "id": "98c322a6-1daa-4cee-a19e-462d9e0c7572",
   "metadata": {},
   "outputs": [
    {
     "name": "stdout",
     "output_type": "stream",
     "text": [
      "a:10, b:10, c:10\n"
     ]
    }
   ],
   "source": [
    "a = 10\n",
    "b = 10\n",
    "c = 10\n",
    "print(f'a:{a}, b:{b}, c:{c}')"
   ]
  },
  {
   "cell_type": "markdown",
   "id": "63116353-b84b-4d51-8e60-3fdd515ff78c",
   "metadata": {},
   "source": [
    "## Pythonic Way"
   ]
  },
  {
   "cell_type": "code",
   "execution_count": 97,
   "id": "2e751284-0287-4239-8256-d6b10f07eccc",
   "metadata": {},
   "outputs": [
    {
     "name": "stdout",
     "output_type": "stream",
     "text": [
      "a:10, b:10, c:10\n"
     ]
    }
   ],
   "source": [
    "a = b = c = 10\n",
    "print(f'a:{a}, b:{b}, c:{c}')"
   ]
  },
  {
   "cell_type": "markdown",
   "id": "b96787f9-c87f-4a8d-8db8-70a80b689e54",
   "metadata": {},
   "source": [
    "# #37: POSITIONAL ARGUMENT DAN KEYWORD ARGUMENT"
   ]
  },
  {
   "cell_type": "code",
   "execution_count": 98,
   "id": "975a0235-8b98-4e46-8549-6f39a87a0e5d",
   "metadata": {},
   "outputs": [],
   "source": [
    "def cetak_nama(f_name, l_name):\n",
    "    print(f'{f_name} {l_name}')"
   ]
  },
  {
   "cell_type": "markdown",
   "id": "22f422ff-8888-4a44-abd8-a33f40d7a203",
   "metadata": {},
   "source": [
    "## Conventional Way (Positional Argument)"
   ]
  },
  {
   "cell_type": "code",
   "execution_count": 99,
   "id": "242d58d2-7104-4112-93d6-61725f184af1",
   "metadata": {},
   "outputs": [
    {
     "name": "stdout",
     "output_type": "stream",
     "text": [
      "Karti Susanti\n",
      "Susanti Karti\n"
     ]
    }
   ],
   "source": [
    "cetak_nama('Karti', 'Susanti')\n",
    "cetak_nama('Susanti', 'Karti')"
   ]
  },
  {
   "cell_type": "markdown",
   "id": "397d16fc-3474-451c-963c-b2386d1518c9",
   "metadata": {},
   "source": [
    "## Pythonic Way (Keyword Argument)"
   ]
  },
  {
   "cell_type": "code",
   "execution_count": 101,
   "id": "961cb6ef-84b3-4ce8-afac-a0a52be126ea",
   "metadata": {},
   "outputs": [
    {
     "name": "stdout",
     "output_type": "stream",
     "text": [
      "Karti Susanti\n",
      "Karti Susanti\n"
     ]
    }
   ],
   "source": [
    "cetak_nama(f_name='Karti', l_name='Susanti')\n",
    "cetak_nama(l_name='Susanti', f_name='Karti')"
   ]
  },
  {
   "cell_type": "markdown",
   "id": "a91e6fc6-c450-41ea-9944-d2354cdfc188",
   "metadata": {},
   "source": [
    "# #38: UNPACKING ARGUMENT PADA PEMANGGILAN FUNGSI"
   ]
  },
  {
   "cell_type": "code",
   "execution_count": 103,
   "id": "712090f2-1885-40b3-b1f8-252c2ef10bc5",
   "metadata": {},
   "outputs": [],
   "source": [
    "def jumlahkan(p_satu, p_dua):\n",
    "    return p_satu + p_dua\n",
    "\n",
    "listku = [10, 20]\n",
    "dictku = {'p_satu': 100, 'p_dua': 200}"
   ]
  },
  {
   "cell_type": "markdown",
   "id": "784ef3b2-1c05-419a-9543-a1feddb9a463",
   "metadata": {},
   "source": [
    "## Conventional Way"
   ]
  },
  {
   "cell_type": "code",
   "execution_count": 104,
   "id": "a35aa4a8-b6cb-4879-a474-6a09195c71e6",
   "metadata": {},
   "outputs": [
    {
     "name": "stdout",
     "output_type": "stream",
     "text": [
      "hasil_list: 30\n",
      "hasil_dict: 300\n"
     ]
    }
   ],
   "source": [
    "hasil_list = jumlahkan(listku[0], listku[1])\n",
    "hasil_dict = jumlahkan(dictku['p_satu'], dictku['p_dua'])\n",
    "print(f'hasil_list: {hasil_list}')\n",
    "print(f'hasil_dict: {hasil_dict}')"
   ]
  },
  {
   "cell_type": "markdown",
   "id": "0cf42215-f7ea-4b36-807e-74db92b1897b",
   "metadata": {},
   "source": [
    "## Pythonic Way"
   ]
  },
  {
   "cell_type": "code",
   "execution_count": 105,
   "id": "dbf358f5-0acd-4ad7-a66f-2b640dd8b6bf",
   "metadata": {},
   "outputs": [
    {
     "name": "stdout",
     "output_type": "stream",
     "text": [
      "hasil_list: 30\n",
      "hasil_dict: 300\n"
     ]
    }
   ],
   "source": [
    "hasil_list = jumlahkan(*listku)\n",
    "hasil_dict = jumlahkan(**dictku)\n",
    "print(f'hasil_list: {hasil_list}')\n",
    "print(f'hasil_dict: {hasil_dict}')"
   ]
  },
  {
   "cell_type": "markdown",
   "id": "0f513198-cd14-46b0-8d53-d564a324ba63",
   "metadata": {},
   "source": [
    "# #39: MERANGKAI BEBERAPA METHOD STRING"
   ]
  },
  {
   "cell_type": "code",
   "execution_count": 106,
   "id": "656ec747-c979-45b3-a7b1-0c0e4cc503ad",
   "metadata": {},
   "outputs": [
    {
     "name": "stdout",
     "output_type": "stream",
     "text": [
      "x:    Bahasa pemrograman python: guido van rossum \n"
     ]
    }
   ],
   "source": [
    "x = '   Bahasa pemrograman python: guido van rossum '\n",
    "print(f'x: {x}')"
   ]
  },
  {
   "cell_type": "markdown",
   "id": "34debb58-918b-490f-b507-852df67f6a93",
   "metadata": {},
   "source": [
    "## Conventional Way"
   ]
  },
  {
   "cell_type": "code",
   "execution_count": 113,
   "id": "0c486f87-699f-47e6-b450-34c33607115b",
   "metadata": {},
   "outputs": [
    {
     "name": "stdout",
     "output_type": "stream",
     "text": [
      "y: Bahasa pemrograman python: guido van rossum\n",
      "y: BAHASA PEMROGRAMAN PYTHON: GUIDO VAN ROSSUM\n",
      "y: bahasa pemrograman python: guido van rossum\n",
      "y: bahasa pemrograman python; guido van rossum\n"
     ]
    }
   ],
   "source": [
    "y = x.strip() # memangkas karakter spasi yang berlebih\n",
    "print(f'y: {y}')\n",
    "y = y.upper() # uppercase\n",
    "print(f'y: {y}')\n",
    "y = y.lower() #lowercase\n",
    "print(f'y: {y}')\n",
    "y = y.replace(':', ';') # mengganti karakter\n",
    "print(f'y: {y}')"
   ]
  },
  {
   "cell_type": "markdown",
   "id": "8a755787-2f2b-4592-a7e3-4a57c7b06b8e",
   "metadata": {},
   "source": [
    "## Pythonic Way"
   ]
  },
  {
   "cell_type": "code",
   "execution_count": 108,
   "id": "f7055598-3bfc-4249-8388-f4208fef47dd",
   "metadata": {},
   "outputs": [
    {
     "name": "stdout",
     "output_type": "stream",
     "text": [
      "z: BAHASA PEMROGRAMAN PYTHON; GUIDO VAN ROSSUM\n"
     ]
    }
   ],
   "source": [
    "z = x.strip().upper().replace(':', ';')\n",
    "print(f'z: {z}')"
   ]
  },
  {
   "cell_type": "markdown",
   "id": "1649b13c-bbe7-4fe2-86c6-1cadaa801ca0",
   "metadata": {},
   "source": [
    "# #40: DEFAULT ARGUMENT (FUNCTION OVERLOADING)"
   ]
  },
  {
   "cell_type": "markdown",
   "id": "4b143eca-8795-4840-86d3-5b14f0b57600",
   "metadata": {},
   "source": [
    "## Conventional Way"
   ]
  },
  {
   "cell_type": "code",
   "execution_count": 119,
   "id": "7bfb2dca-b16c-42c9-8588-e66a9b958068",
   "metadata": {},
   "outputs": [
    {
     "name": "stdout",
     "output_type": "stream",
     "text": [
      "Hai Karti! Selamat Pagi\n",
      "Hai Tejo! Apa kabar?\n",
      "Hai Bejo! \n",
      "Hai Bejo\n"
     ]
    }
   ],
   "source": [
    "def salam1(nama, pesan):\n",
    "    print(f'Hai {nama}! {pesan}')\n",
    "    \n",
    "def salam_alternatif(nama):\n",
    "    print(f'Hai {nama}')\n",
    "\n",
    "salam1('Karti', 'Selamat Pagi')\n",
    "salam1('Tejo', 'Apa kabar?')\n",
    "salam1('Bejo', '')\n",
    "salam_alternatif('Bejo')"
   ]
  },
  {
   "cell_type": "markdown",
   "id": "b921f6b4-45b7-4094-9204-e2e70e0f9ced",
   "metadata": {},
   "source": [
    "## Pythonic Way"
   ]
  },
  {
   "cell_type": "code",
   "execution_count": 120,
   "id": "53b57a9c-f9ed-43df-bddf-dae2ee0e9da5",
   "metadata": {},
   "outputs": [
    {
     "name": "stdout",
     "output_type": "stream",
     "text": [
      "Hai Karti! Selamat Pagi\n",
      "Hai Tejo! Apa kabar?\n",
      "Hai Bejo! \n"
     ]
    }
   ],
   "source": [
    "def salam2(nama, pesan=''): # Function Overloading\n",
    "    print(f'Hai {nama}! {pesan}')\n",
    "\n",
    "salam2('Karti', 'Selamat Pagi')\n",
    "salam2('Tejo', 'Apa kabar?')\n",
    "salam2('Bejo')"
   ]
  }
 ],
 "metadata": {
  "kernelspec": {
   "display_name": "Python 3 (ipykernel)",
   "language": "python",
   "name": "python3"
  },
  "language_info": {
   "codemirror_mode": {
    "name": "ipython",
    "version": 3
   },
   "file_extension": ".py",
   "mimetype": "text/x-python",
   "name": "python",
   "nbconvert_exporter": "python",
   "pygments_lexer": "ipython3",
   "version": "3.10.14"
  }
 },
 "nbformat": 4,
 "nbformat_minor": 5
}
